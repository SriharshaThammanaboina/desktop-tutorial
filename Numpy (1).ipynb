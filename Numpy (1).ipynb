{
 "cells": [
  {
   "cell_type": "markdown",
   "id": "2ef4915c-12e1-45c3-ac3e-348e2e5cba95",
   "metadata": {},
   "source": [
    "### Installation"
   ]
  },
  {
   "cell_type": "code",
   "execution_count": 1,
   "id": "2d1f3eec-c931-44ee-a369-4be993276811",
   "metadata": {},
   "outputs": [
    {
     "name": "stdout",
     "output_type": "stream",
     "text": [
      "Requirement already satisfied: numpy in c:\\users\\dell\\anaconda3\\envs\\dataanalysis\\lib\\site-packages (2.1.0)\n"
     ]
    }
   ],
   "source": [
    "!pip install numpy"
   ]
  },
  {
   "cell_type": "markdown",
   "id": "06fea68a-0386-4fef-877b-0cea33a53cfe",
   "metadata": {},
   "source": [
    "## Importing numpy"
   ]
  },
  {
   "cell_type": "code",
   "execution_count": 1,
   "id": "0d693319-8669-422d-8fac-1442447a9149",
   "metadata": {},
   "outputs": [],
   "source": [
    "import numpy as np"
   ]
  },
  {
   "cell_type": "code",
   "execution_count": null,
   "id": "fde70ccd-4dc3-457a-ad3e-0f683a020126",
   "metadata": {},
   "outputs": [],
   "source": [
    "list1 = [10,15,17,23,45]"
   ]
  },
  {
   "cell_type": "code",
   "execution_count": 9,
   "id": "ad7ce2e3-b31d-4277-8431-e228d1559c74",
   "metadata": {},
   "outputs": [],
   "source": [
    "list2 = list(range(0,10000000))"
   ]
  },
  {
   "cell_type": "code",
   "execution_count": 10,
   "id": "4d45479f-8d44-43a4-b6d3-c761f27cd6e6",
   "metadata": {},
   "outputs": [
    {
     "data": {
      "text/plain": [
       "10000000"
      ]
     },
     "execution_count": 10,
     "metadata": {},
     "output_type": "execute_result"
    }
   ],
   "source": [
    "len(list2)"
   ]
  },
  {
   "cell_type": "code",
   "execution_count": 22,
   "id": "e2a1e0af-8cff-4928-ae83-42287e11913c",
   "metadata": {},
   "outputs": [],
   "source": [
    "arr1 = np.arange(0,10000000,dtype = 'int16')"
   ]
  },
  {
   "cell_type": "code",
   "execution_count": 23,
   "id": "d08e5247-b407-453d-9d0a-3bb7f7e0a188",
   "metadata": {},
   "outputs": [
    {
     "data": {
      "text/plain": [
       "10000000"
      ]
     },
     "execution_count": 23,
     "metadata": {},
     "output_type": "execute_result"
    }
   ],
   "source": [
    "len(arr1)"
   ]
  },
  {
   "cell_type": "markdown",
   "id": "75ea65cd-db87-4850-9c8d-e5987481a718",
   "metadata": {},
   "source": [
    "## Memory "
   ]
  },
  {
   "cell_type": "code",
   "execution_count": 24,
   "id": "741eabd5-1801-42f9-9247-cc4a09cc85de",
   "metadata": {},
   "outputs": [],
   "source": [
    "import sys"
   ]
  },
  {
   "cell_type": "code",
   "execution_count": 25,
   "id": "5b62991a-3fa0-41df-8439-96db72808eff",
   "metadata": {},
   "outputs": [
    {
     "data": {
      "text/plain": [
       "80000056"
      ]
     },
     "execution_count": 25,
     "metadata": {},
     "output_type": "execute_result"
    }
   ],
   "source": [
    "sys.getsizeof(list2)"
   ]
  },
  {
   "cell_type": "code",
   "execution_count": 26,
   "id": "fda1a215-59c6-410a-a2da-b45d4ea49871",
   "metadata": {},
   "outputs": [
    {
     "data": {
      "text/plain": [
       "20000112"
      ]
     },
     "execution_count": 26,
     "metadata": {},
     "output_type": "execute_result"
    }
   ],
   "source": [
    "sys.getsizeof(arr1)"
   ]
  },
  {
   "cell_type": "code",
   "execution_count": 21,
   "id": "bc7fed6c-0d30-4286-9fc6-cffc3e280a1d",
   "metadata": {},
   "outputs": [
    {
     "data": {
      "text/plain": [
       "iinfo(min=-32768, max=32767, dtype=int16)"
      ]
     },
     "execution_count": 21,
     "metadata": {},
     "output_type": "execute_result"
    }
   ],
   "source": [
    "np.iinfo('int16')"
   ]
  },
  {
   "cell_type": "markdown",
   "id": "d6f114aa-b7bd-45d8-9c0d-38b063e5f179",
   "metadata": {},
   "source": [
    "# Time"
   ]
  },
  {
   "cell_type": "code",
   "execution_count": 27,
   "id": "937f29bd-0bc1-4a7f-98a0-976342f54aa2",
   "metadata": {},
   "outputs": [
    {
     "name": "stdout",
     "output_type": "stream",
     "text": [
      "CPU times: total: 93.8 ms\n",
      "Wall time: 192 ms\n"
     ]
    }
   ],
   "source": [
    "%%time\n",
    "list3 = list(range(0,10000000))"
   ]
  },
  {
   "cell_type": "code",
   "execution_count": 28,
   "id": "7117ad20-0cb3-44c2-ab93-65fd3d8ff9c9",
   "metadata": {},
   "outputs": [
    {
     "name": "stdout",
     "output_type": "stream",
     "text": [
      "CPU times: total: 15.6 ms\n",
      "Wall time: 21 ms\n"
     ]
    }
   ],
   "source": [
    "%%time\n",
    "arr1 = np.arange(0,10000000,dtype = 'int16')"
   ]
  },
  {
   "cell_type": "markdown",
   "id": "cba8c716-d763-483b-a2ee-fb0106fc4b33",
   "metadata": {},
   "source": [
    "## Creation of Numpy arrays"
   ]
  },
  {
   "cell_type": "code",
   "execution_count": 30,
   "id": "5e87a0b5-295a-4ad9-85fb-89e06044f0af",
   "metadata": {},
   "outputs": [],
   "source": [
    "#From list\n",
    "list1 = [23,45,67,89,90]\n",
    "arr1 = np.array(list1)"
   ]
  },
  {
   "cell_type": "code",
   "execution_count": 32,
   "id": "2e9f8931-62ee-4377-83f7-efaf3498742b",
   "metadata": {},
   "outputs": [],
   "source": [
    "#from tuple\n",
    "tup = (4,6,7,8,9,10)\n",
    "arr2 = np.array(tup)"
   ]
  },
  {
   "cell_type": "code",
   "execution_count": 33,
   "id": "a5465688-65bd-40dc-832e-63bf0e9552bd",
   "metadata": {},
   "outputs": [
    {
     "data": {
      "text/plain": [
       "array([2.3, 4.5, 6.7])"
      ]
     },
     "execution_count": 33,
     "metadata": {},
     "output_type": "execute_result"
    }
   ],
   "source": [
    "np.array([2.3,4.5,6.7])"
   ]
  },
  {
   "cell_type": "code",
   "execution_count": 35,
   "id": "c1249b42-d3b2-4bfb-9a35-8f63485523b9",
   "metadata": {},
   "outputs": [
    {
     "data": {
      "text/plain": [
       "array([  1,   2,   3,   4,   5,   6,   7,   8,   9,  10,  11,  12,  13,\n",
       "        14,  15,  16,  17,  18,  19,  20,  21,  22,  23,  24,  25,  26,\n",
       "        27,  28,  29,  30,  31,  32,  33,  34,  35,  36,  37,  38,  39,\n",
       "        40,  41,  42,  43,  44,  45,  46,  47,  48,  49,  50,  51,  52,\n",
       "        53,  54,  55,  56,  57,  58,  59,  60,  61,  62,  63,  64,  65,\n",
       "        66,  67,  68,  69,  70,  71,  72,  73,  74,  75,  76,  77,  78,\n",
       "        79,  80,  81,  82,  83,  84,  85,  86,  87,  88,  89,  90,  91,\n",
       "        92,  93,  94,  95,  96,  97,  98,  99, 100])"
      ]
     },
     "execution_count": 35,
     "metadata": {},
     "output_type": "execute_result"
    }
   ],
   "source": [
    "#Seaquence of value in array\n",
    "np.arange(1,101)"
   ]
  },
  {
   "cell_type": "code",
   "execution_count": 37,
   "id": "9646c62e-2633-4c0e-b09e-71f03884674b",
   "metadata": {},
   "outputs": [
    {
     "data": {
      "text/plain": [
       "array([  0,   2,   4,   6,   8,  10,  12,  14,  16,  18,  20,  22,  24,\n",
       "        26,  28,  30,  32,  34,  36,  38,  40,  42,  44,  46,  48,  50,\n",
       "        52,  54,  56,  58,  60,  62,  64,  66,  68,  70,  72,  74,  76,\n",
       "        78,  80,  82,  84,  86,  88,  90,  92,  94,  96,  98, 100])"
      ]
     },
     "execution_count": 37,
     "metadata": {},
     "output_type": "execute_result"
    }
   ],
   "source": [
    "np.arange(0,101,2)"
   ]
  },
  {
   "cell_type": "code",
   "execution_count": 39,
   "id": "53263869-1174-4e5b-a539-9ee59c033596",
   "metadata": {},
   "outputs": [
    {
     "data": {
      "text/plain": [
       "array([99, 75, 54, 15,  9,  3, 26, 53, 29,  1, 16, 69, 18, 26, 32, 98, 32,\n",
       "       87, 23, 54, 64, 26, 90, 53, 69, 63, 40, 15,  6, 96,  9,  7, 58,  8,\n",
       "       46, 80, 22, 35, 61, 54, 66, 69, 97, 38, 83, 84, 84, 71, 71, 72],\n",
       "      dtype=int32)"
      ]
     },
     "execution_count": 39,
     "metadata": {},
     "output_type": "execute_result"
    }
   ],
   "source": [
    "#random numbers data\n",
    "age  = np.random.randint(1,100,50)\n",
    "age"
   ]
  },
  {
   "cell_type": "code",
   "execution_count": 41,
   "id": "12b309a3-a3ee-41e3-9755-d497fca37eba",
   "metadata": {},
   "outputs": [
    {
     "data": {
      "text/plain": [
       "array([ 0. ,  2.5,  5. ,  7.5, 10. ])"
      ]
     },
     "execution_count": 41,
     "metadata": {},
     "output_type": "execute_result"
    }
   ],
   "source": [
    "#Linearly spaced(Equally spaced Data)\n",
    "np.linspace(0,10,5)"
   ]
  },
  {
   "cell_type": "code",
   "execution_count": 44,
   "id": "82ddf980-6711-4a4e-912b-c755999b8802",
   "metadata": {},
   "outputs": [
    {
     "data": {
      "text/plain": [
       "array([[0., 0., 0., 0.],\n",
       "       [0., 0., 0., 0.],\n",
       "       [0., 0., 0., 0.],\n",
       "       [0., 0., 0., 0.]])"
      ]
     },
     "execution_count": 44,
     "metadata": {},
     "output_type": "execute_result"
    }
   ],
   "source": [
    "#Zeros\n",
    "np.zeros((4,4))"
   ]
  },
  {
   "cell_type": "code",
   "execution_count": 47,
   "id": "8cad96d3-d1da-4deb-bb83-e3f0b8426d29",
   "metadata": {},
   "outputs": [
    {
     "data": {
      "text/plain": [
       "array([[1, 1, 1, 1, 1],\n",
       "       [1, 1, 1, 1, 1],\n",
       "       [1, 1, 1, 1, 1]], dtype=int8)"
      ]
     },
     "execution_count": 47,
     "metadata": {},
     "output_type": "execute_result"
    }
   ],
   "source": [
    "#ones\n",
    "np.ones((3,5),dtype = np.int8)"
   ]
  },
  {
   "cell_type": "code",
   "execution_count": 61,
   "id": "0bb5f506-6b66-4d07-8a70-5c04ebfd379c",
   "metadata": {},
   "outputs": [],
   "source": [
    "#Full\n",
    "f = np.full((3,4),4)"
   ]
  },
  {
   "cell_type": "markdown",
   "id": "aaab017a-acab-43ea-9af1-9fdc9fd3c865",
   "metadata": {},
   "source": [
    "## Attributes"
   ]
  },
  {
   "cell_type": "code",
   "execution_count": 50,
   "id": "caf1671d-88a8-4248-9a82-8c3fcb079ddf",
   "metadata": {},
   "outputs": [
    {
     "data": {
      "text/plain": [
       "array([ 2,  3,  4,  5,  6,  7,  8,  9, 10, 11, 12, 13, 14])"
      ]
     },
     "execution_count": 50,
     "metadata": {},
     "output_type": "execute_result"
    }
   ],
   "source": [
    "array = np.arange(2,15)\n",
    "array"
   ]
  },
  {
   "cell_type": "code",
   "execution_count": 52,
   "id": "2aa6c80a-9c75-48f8-8b49-ad1d4ec6532e",
   "metadata": {},
   "outputs": [
    {
     "data": {
      "text/plain": [
       "dtype('int64')"
      ]
     },
     "execution_count": 52,
     "metadata": {},
     "output_type": "execute_result"
    }
   ],
   "source": [
    "array.dtype  #To know about the data type"
   ]
  },
  {
   "cell_type": "code",
   "execution_count": 53,
   "id": "54493ed5-1637-40cc-8cf7-f597f1b1d5e7",
   "metadata": {},
   "outputs": [
    {
     "data": {
      "text/plain": [
       "1"
      ]
     },
     "execution_count": 53,
     "metadata": {},
     "output_type": "execute_result"
    }
   ],
   "source": [
    "array.ndim   #dimension of the array"
   ]
  },
  {
   "cell_type": "code",
   "execution_count": 54,
   "id": "5066ea56-f58b-4878-8327-35bf6ba8298b",
   "metadata": {},
   "outputs": [
    {
     "data": {
      "text/plain": [
       "104"
      ]
     },
     "execution_count": 54,
     "metadata": {},
     "output_type": "execute_result"
    }
   ],
   "source": [
    "array.nbytes  #no of bytes accupied by array"
   ]
  },
  {
   "cell_type": "code",
   "execution_count": 55,
   "id": "d8bdc74f-a688-451f-a15b-e3738f4bb46b",
   "metadata": {},
   "outputs": [
    {
     "data": {
      "text/plain": [
       "13"
      ]
     },
     "execution_count": 55,
     "metadata": {},
     "output_type": "execute_result"
    }
   ],
   "source": [
    "array.size   #total no of values in array"
   ]
  },
  {
   "cell_type": "code",
   "execution_count": 58,
   "id": "1a7fb7f1-04ea-4810-890c-0d2735542492",
   "metadata": {},
   "outputs": [
    {
     "data": {
      "text/plain": [
       "8"
      ]
     },
     "execution_count": 58,
     "metadata": {},
     "output_type": "execute_result"
    }
   ],
   "source": [
    "array.itemsize #memory occupied by each value"
   ]
  },
  {
   "cell_type": "code",
   "execution_count": 62,
   "id": "5264b122-e1dd-419f-8ecd-f7ac54866d4e",
   "metadata": {},
   "outputs": [
    {
     "data": {
      "text/plain": [
       "(3, 4)"
      ]
     },
     "execution_count": 62,
     "metadata": {},
     "output_type": "execute_result"
    }
   ],
   "source": [
    "f.shape"
   ]
  },
  {
   "cell_type": "markdown",
   "id": "b9c012c1-b699-494c-976d-e449ed49c843",
   "metadata": {},
   "source": [
    "## Statistical Measures"
   ]
  },
  {
   "cell_type": "code",
   "execution_count": 64,
   "id": "d6620b70-28c4-4cc1-ab53-9668ba50982a",
   "metadata": {},
   "outputs": [
    {
     "data": {
      "text/plain": [
       "array([31183, 84761, 47922, 44026, 78448, 24979, 52327, 28729, 32889,\n",
       "       94913, 37173, 86890, 12091, 93774, 39837, 26674, 55535, 33608,\n",
       "       84251, 79923, 88770, 41457, 45404, 49841, 72271, 93270, 55953,\n",
       "       54081, 43445, 63415, 85748, 95220, 35721, 58193, 72670, 11379,\n",
       "       72422, 20309, 55100, 27232], dtype=int32)"
      ]
     },
     "execution_count": 64,
     "metadata": {},
     "output_type": "execute_result"
    }
   ],
   "source": [
    "sal = np.random.randint(10000,100000,40)\n",
    "sal"
   ]
  },
  {
   "cell_type": "markdown",
   "id": "a79cc6e0-7ccb-44f0-a7bc-837ce77acdaa",
   "metadata": {},
   "source": [
    "## Measure of central Tendency"
   ]
  },
  {
   "cell_type": "code",
   "execution_count": 65,
   "id": "4e27169d-47e5-4cf8-9e5d-53881086e6f0",
   "metadata": {},
   "outputs": [
    {
     "data": {
      "text/plain": [
       "np.float64(55295.85)"
      ]
     },
     "execution_count": 65,
     "metadata": {},
     "output_type": "execute_result"
    }
   ],
   "source": [
    "np.mean(sal)"
   ]
  },
  {
   "cell_type": "code",
   "execution_count": 66,
   "id": "eded9740-fbee-41a4-a433-72cb106ff657",
   "metadata": {},
   "outputs": [
    {
     "data": {
      "text/plain": [
       "np.float64(53204.0)"
      ]
     },
     "execution_count": 66,
     "metadata": {},
     "output_type": "execute_result"
    }
   ],
   "source": [
    "np.median(sal)"
   ]
  },
  {
   "cell_type": "markdown",
   "id": "bc8bad20-13c2-4ef0-9f0d-3d3fa5edd563",
   "metadata": {},
   "source": [
    "## Dispersion"
   ]
  },
  {
   "cell_type": "code",
   "execution_count": 69,
   "id": "8be42d75-bade-4ec1-b478-ef91b8bc7e51",
   "metadata": {},
   "outputs": [],
   "source": [
    "#ranage\n",
    "range_ = np.max(sal) - np.min(sal)"
   ]
  },
  {
   "cell_type": "code",
   "execution_count": 70,
   "id": "23e51df4-202c-43eb-9dc9-469c397e2a69",
   "metadata": {},
   "outputs": [
    {
     "data": {
      "text/plain": [
       "np.float64(608654731.6775)"
      ]
     },
     "execution_count": 70,
     "metadata": {},
     "output_type": "execute_result"
    }
   ],
   "source": [
    "#variance\n",
    "np.var(sal)"
   ]
  },
  {
   "cell_type": "code",
   "execution_count": 71,
   "id": "4bd1c3cc-55ee-44ac-a258-46f16c0e9305",
   "metadata": {},
   "outputs": [
    {
     "data": {
      "text/plain": [
       "np.float64(24670.92887747642)"
      ]
     },
     "execution_count": 71,
     "metadata": {},
     "output_type": "execute_result"
    }
   ],
   "source": [
    "#Standard deviation\n",
    "np.std(sal)"
   ]
  },
  {
   "cell_type": "markdown",
   "id": "5bac352b-2d64-43f2-b70b-7fb97704b975",
   "metadata": {},
   "source": [
    "### IQR"
   ]
  },
  {
   "cell_type": "code",
   "execution_count": 80,
   "id": "01f74b06-28f4-40d8-8af3-02871909a8c0",
   "metadata": {},
   "outputs": [
    {
     "data": {
      "text/plain": [
       "np.float64(35192.75)"
      ]
     },
     "execution_count": 80,
     "metadata": {},
     "output_type": "execute_result"
    }
   ],
   "source": [
    "q1 = np.quantile(sal,0.25)\n",
    "q1"
   ]
  },
  {
   "cell_type": "code",
   "execution_count": 74,
   "id": "def9f947-7faa-4491-a47e-6dbbafa28da9",
   "metadata": {},
   "outputs": [
    {
     "data": {
      "text/plain": [
       "np.float64(53204.0)"
      ]
     },
     "execution_count": 74,
     "metadata": {},
     "output_type": "execute_result"
    }
   ],
   "source": [
    "q2 = np.quantile(sal,0.5)\n",
    "q2"
   ]
  },
  {
   "cell_type": "code",
   "execution_count": 75,
   "id": "7701c573-1c91-4ebf-9902-3593b69f675c",
   "metadata": {},
   "outputs": [
    {
     "data": {
      "text/plain": [
       "np.float64(78816.75)"
      ]
     },
     "execution_count": 75,
     "metadata": {},
     "output_type": "execute_result"
    }
   ],
   "source": [
    "q3 = np.quantile(sal,0.75)\n",
    "q3"
   ]
  },
  {
   "cell_type": "code",
   "execution_count": 78,
   "id": "27d819b4-5d4a-4d9b-b316-9b9803e138d5",
   "metadata": {},
   "outputs": [
    {
     "data": {
      "text/plain": [
       "np.float64(43624.0)"
      ]
     },
     "execution_count": 78,
     "metadata": {},
     "output_type": "execute_result"
    }
   ],
   "source": [
    "IQR = q3 - q1\n",
    "IQR"
   ]
  },
  {
   "cell_type": "markdown",
   "id": "3334c595-9dbf-4a08-922f-2a36d7e6bae3",
   "metadata": {},
   "source": [
    "## Percentiles"
   ]
  },
  {
   "cell_type": "code",
   "execution_count": 79,
   "id": "0a8d283a-3d2f-475a-b09a-a3149601f776",
   "metadata": {},
   "outputs": [
    {
     "data": {
      "text/plain": [
       "np.float64(35192.75)"
      ]
     },
     "execution_count": 79,
     "metadata": {},
     "output_type": "execute_result"
    }
   ],
   "source": [
    "np.percentile(sal,25)"
   ]
  },
  {
   "cell_type": "code",
   "execution_count": 81,
   "id": "da0ea1ae-303a-405b-adc5-0b7347770d2d",
   "metadata": {},
   "outputs": [
    {
     "data": {
      "text/plain": [
       "np.float64(56849.0)"
      ]
     },
     "execution_count": 81,
     "metadata": {},
     "output_type": "execute_result"
    }
   ],
   "source": [
    "np.percentile(sal,60)"
   ]
  },
  {
   "cell_type": "markdown",
   "id": "2223fd4b-d63d-4000-a1b4-ec67ab8037f5",
   "metadata": {},
   "source": [
    "# Relationship "
   ]
  },
  {
   "cell_type": "code",
   "execution_count": 1,
   "id": "87d92549-0917-4497-bfb8-52ffddc7ef97",
   "metadata": {},
   "outputs": [],
   "source": [
    "import numpy as np"
   ]
  },
  {
   "cell_type": "code",
   "execution_count": 2,
   "id": "497c940a-a587-4783-a556-4161564a912d",
   "metadata": {},
   "outputs": [],
   "source": [
    "exp = np.array([1,3,5,7,8])\n",
    "sal  = np.array([20000,45000,55000,77000,91000])"
   ]
  },
  {
   "cell_type": "code",
   "execution_count": 3,
   "id": "c504b55d-cdc1-4906-ab13-82f1359c20c3",
   "metadata": {},
   "outputs": [
    {
     "data": {
      "text/plain": [
       "array([[8.200e+00, 7.865e+04],\n",
       "       [7.865e+04, 7.678e+08]])"
      ]
     },
     "execution_count": 3,
     "metadata": {},
     "output_type": "execute_result"
    }
   ],
   "source": [
    "np.cov(exp,sal)"
   ]
  },
  {
   "cell_type": "code",
   "execution_count": 4,
   "id": "0ab5c693-aeae-451c-8913-77f41f1d5d97",
   "metadata": {},
   "outputs": [
    {
     "data": {
      "text/plain": [
       "array([[1.        , 0.99121473],\n",
       "       [0.99121473, 1.        ]])"
      ]
     },
     "execution_count": 4,
     "metadata": {},
     "output_type": "execute_result"
    }
   ],
   "source": [
    "np.corrcoef(exp,sal)"
   ]
  },
  {
   "cell_type": "code",
   "execution_count": 7,
   "id": "3fec9bb4-bb45-43f2-b26e-7493394d5a58",
   "metadata": {},
   "outputs": [
    {
     "data": {
      "text/plain": [
       "array([[ 1.       , -0.8995407],\n",
       "       [-0.8995407,  1.       ]])"
      ]
     },
     "execution_count": 7,
     "metadata": {},
     "output_type": "execute_result"
    }
   ],
   "source": [
    "exp = np.array([1,3,5,7,8])\n",
    "sal  = np.array([200000,55000,50000,7000,1000])\n",
    "np.corrcoef(exp,sal)"
   ]
  },
  {
   "cell_type": "markdown",
   "id": "474749c1-ea4f-456f-b00d-c267580b3d14",
   "metadata": {},
   "source": [
    "# Finding the outlier"
   ]
  },
  {
   "cell_type": "markdown",
   "id": "239b96cb-57a7-4570-9357-54067d3818f2",
   "metadata": {},
   "source": [
    "lower = max(min(data),q1-1.5*iqr)) < outlier\n",
    "\n",
    "\n",
    "upper = min(max(data),q3 +1.5 * iqr) > outlier"
   ]
  },
  {
   "cell_type": "code",
   "execution_count": 18,
   "id": "7d8c38c9-130a-45bc-9d35-53cece886ce7",
   "metadata": {},
   "outputs": [],
   "source": [
    "def outlier(data):\n",
    "    IQR  = np.quantile(data,0.75) - np.quantile(data,0.25)\n",
    "    lower_limit = max(np.min(data),(np.quantile(data,0.25) - 1.5 * IQR))\n",
    "    upper_limit = min(np.max(data),(np.quantile(data,0.75) +1.5 * IQR))\n",
    "    return data[(data > upper_limit)  |   (data < lower_limit)]\n"
   ]
  },
  {
   "cell_type": "code",
   "execution_count": 19,
   "id": "ea90fa4a-629c-4dc0-a7e8-0221479480a4",
   "metadata": {},
   "outputs": [],
   "source": [
    "arr= np.array([1,2,4,6,7,-100,500])"
   ]
  },
  {
   "cell_type": "code",
   "execution_count": 20,
   "id": "cb67b9f5-0a9e-40ae-9649-5dd088ff02f7",
   "metadata": {},
   "outputs": [
    {
     "data": {
      "text/plain": [
       "array([-100,  500])"
      ]
     },
     "execution_count": 20,
     "metadata": {},
     "output_type": "execute_result"
    }
   ],
   "source": [
    "outlier(arr)"
   ]
  },
  {
   "cell_type": "markdown",
   "id": "3d21431f-bedb-47c3-9303-850bed37096d",
   "metadata": {},
   "source": [
    "## Numpy Data Types"
   ]
  },
  {
   "cell_type": "code",
   "execution_count": 23,
   "id": "e18372f0-cd0a-4330-9c63-f89252c4dad1",
   "metadata": {},
   "outputs": [
    {
     "data": {
      "text/plain": [
       "32768"
      ]
     },
     "execution_count": 23,
     "metadata": {},
     "output_type": "execute_result"
    }
   ],
   "source": [
    "2 ** 15"
   ]
  },
  {
   "cell_type": "code",
   "execution_count": 25,
   "id": "c40e3955-eed9-4288-9f97-6297da124da4",
   "metadata": {},
   "outputs": [
    {
     "data": {
      "text/plain": [
       "iinfo(min=-32768, max=32767, dtype=int16)"
      ]
     },
     "execution_count": 25,
     "metadata": {},
     "output_type": "execute_result"
    }
   ],
   "source": [
    "np.iinfo(np.int16)"
   ]
  },
  {
   "cell_type": "code",
   "execution_count": 28,
   "id": "35db3731-619e-4c98-b9dd-5a801bd5e21e",
   "metadata": {},
   "outputs": [
    {
     "data": {
      "text/plain": [
       "array([29, 87, 52, 69, 11, 38, 57, 58, 80, 15, 74, 83, 38, 65, 72,  4, 19,\n",
       "       53, 60, 10], dtype=int32)"
      ]
     },
     "execution_count": 28,
     "metadata": {},
     "output_type": "execute_result"
    }
   ],
   "source": [
    "age = np.random.randint(1,100,20)\n",
    "age"
   ]
  },
  {
   "cell_type": "code",
   "execution_count": 29,
   "id": "c0b82544-d17a-4ae4-acc6-2714689b7452",
   "metadata": {},
   "outputs": [
    {
     "data": {
      "text/plain": [
       "80"
      ]
     },
     "execution_count": 29,
     "metadata": {},
     "output_type": "execute_result"
    }
   ],
   "source": [
    "age.nbytes"
   ]
  },
  {
   "cell_type": "code",
   "execution_count": 30,
   "id": "42d15e10-f6a1-4bba-900f-fe16b6912efc",
   "metadata": {},
   "outputs": [],
   "source": [
    "age2 = age.astype(np.int8) #To convert one data type another data type"
   ]
  },
  {
   "cell_type": "code",
   "execution_count": 31,
   "id": "ab72a8fd-ee86-4b45-b011-c36a3023619c",
   "metadata": {},
   "outputs": [
    {
     "data": {
      "text/plain": [
       "array([29, 87, 52, 69, 11, 38, 57, 58, 80, 15, 74, 83, 38, 65, 72,  4, 19,\n",
       "       53, 60, 10], dtype=int8)"
      ]
     },
     "execution_count": 31,
     "metadata": {},
     "output_type": "execute_result"
    }
   ],
   "source": [
    "age2"
   ]
  },
  {
   "cell_type": "code",
   "execution_count": 32,
   "id": "793a6bce-f4a7-4579-9dbb-d80ee4195054",
   "metadata": {},
   "outputs": [
    {
     "data": {
      "text/plain": [
       "20"
      ]
     },
     "execution_count": 32,
     "metadata": {},
     "output_type": "execute_result"
    }
   ],
   "source": [
    "age2.nbytes"
   ]
  },
  {
   "cell_type": "code",
   "execution_count": 33,
   "id": "2670176f-d2e6-427b-bd4e-dc53c919af10",
   "metadata": {},
   "outputs": [
    {
     "data": {
      "text/plain": [
       "finfo(resolution=0.001, min=-6.55040e+04, max=6.55040e+04, dtype=float16)"
      ]
     },
     "execution_count": 33,
     "metadata": {},
     "output_type": "execute_result"
    }
   ],
   "source": [
    "np.finfo(np.float16)"
   ]
  },
  {
   "cell_type": "code",
   "execution_count": 34,
   "id": "d76b4b4c-45a4-418c-92a2-290a05dc983c",
   "metadata": {},
   "outputs": [
    {
     "data": {
      "text/plain": [
       "iinfo(min=0, max=255, dtype=uint8)"
      ]
     },
     "execution_count": 34,
     "metadata": {},
     "output_type": "execute_result"
    }
   ],
   "source": [
    "np.iinfo(np.uint8)"
   ]
  },
  {
   "cell_type": "code",
   "execution_count": 38,
   "id": "bfb2273e-29e8-48af-9d85-cc4c0a6c55f3",
   "metadata": {
    "scrolled": true
   },
   "outputs": [
    {
     "data": {
      "text/plain": [
       "array([  1,   4,   6,   7, 132], dtype=int16)"
      ]
     },
     "execution_count": 38,
     "metadata": {},
     "output_type": "execute_result"
    }
   ],
   "source": [
    "salary = np.array([1,4,6,7,132],dtype = np.int16)\n",
    "salary"
   ]
  },
  {
   "cell_type": "markdown",
   "id": "aca8f16c-015f-4b03-a4f7-c98f33fbade4",
   "metadata": {},
   "source": [
    "# N Dimension Arrays"
   ]
  },
  {
   "cell_type": "markdown",
   "id": "109c0715-790f-429a-aa69-f9fee78d6eae",
   "metadata": {},
   "source": [
    "### Before creating"
   ]
  },
  {
   "cell_type": "code",
   "execution_count": 60,
   "id": "552690f6-0fff-417a-b2d0-f1c51b8b0279",
   "metadata": {},
   "outputs": [],
   "source": [
    "arr = np.array([2,5,8,9200,60,45],ndmin = 2)"
   ]
  },
  {
   "cell_type": "code",
   "execution_count": 61,
   "id": "db288620-c233-4546-b80c-06a9e1d8f1a4",
   "metadata": {},
   "outputs": [
    {
     "data": {
      "text/plain": [
       "2"
      ]
     },
     "execution_count": 61,
     "metadata": {},
     "output_type": "execute_result"
    }
   ],
   "source": [
    "arr.ndim"
   ]
  },
  {
   "cell_type": "code",
   "execution_count": 62,
   "id": "2992c85e-92e8-4c0c-bd29-f688efcaea3b",
   "metadata": {
    "scrolled": true
   },
   "outputs": [
    {
     "data": {
      "text/plain": [
       "array([[   2,    5,    8, 9200,   60,   45]])"
      ]
     },
     "execution_count": 62,
     "metadata": {},
     "output_type": "execute_result"
    }
   ],
   "source": [
    "arr"
   ]
  },
  {
   "cell_type": "markdown",
   "id": "8f153bce-1bf7-47af-ad16-449a28b80d36",
   "metadata": {},
   "source": [
    "## After creating"
   ]
  },
  {
   "cell_type": "code",
   "execution_count": 88,
   "id": "70cb4df9-86c3-4272-a81b-5f7ff1031628",
   "metadata": {},
   "outputs": [
    {
     "data": {
      "text/plain": [
       "array([ 0,  1,  2,  3,  4,  5,  6,  7,  8,  9, 10, 11])"
      ]
     },
     "execution_count": 88,
     "metadata": {},
     "output_type": "execute_result"
    }
   ],
   "source": [
    "arr = np.arange(0,12)\n",
    "arr"
   ]
  },
  {
   "cell_type": "code",
   "execution_count": 67,
   "id": "99094988-87f2-4dff-8a8b-cf21e806d58f",
   "metadata": {},
   "outputs": [
    {
     "data": {
      "text/plain": [
       "1"
      ]
     },
     "execution_count": 67,
     "metadata": {},
     "output_type": "execute_result"
    }
   ],
   "source": [
    "arr.ndim"
   ]
  },
  {
   "cell_type": "code",
   "execution_count": 91,
   "id": "5c5646b6-936c-4f67-a95c-2935716074d9",
   "metadata": {},
   "outputs": [
    {
     "data": {
      "text/plain": [
       "array([[[ 0],\n",
       "        [ 1]],\n",
       "\n",
       "       [[ 2],\n",
       "        [ 3]],\n",
       "\n",
       "       [[ 4],\n",
       "        [ 5]],\n",
       "\n",
       "       [[ 6],\n",
       "        [ 7]],\n",
       "\n",
       "       [[ 8],\n",
       "        [ 9]],\n",
       "\n",
       "       [[10],\n",
       "        [11]]])"
      ]
     },
     "execution_count": 91,
     "metadata": {},
     "output_type": "execute_result"
    }
   ],
   "source": [
    "arr2 = arr.reshape((6,2,1))\n",
    "arr2"
   ]
  },
  {
   "cell_type": "code",
   "execution_count": 86,
   "id": "8a6827fc-c333-49ea-99b0-87bea6192c28",
   "metadata": {},
   "outputs": [
    {
     "data": {
      "text/plain": [
       "5"
      ]
     },
     "execution_count": 86,
     "metadata": {},
     "output_type": "execute_result"
    }
   ],
   "source": [
    "arr2.ndim"
   ]
  },
  {
   "cell_type": "code",
   "execution_count": 87,
   "id": "ae521aff-00f5-442c-bc74-479cf9bc64c4",
   "metadata": {},
   "outputs": [
    {
     "data": {
      "text/plain": [
       "array([[[[[ 0,  1,  2],\n",
       "          [ 3,  4,  5],\n",
       "          [ 6,  7,  8],\n",
       "          [ 9, 10, 11],\n",
       "          [12, 13, 14]]]]])"
      ]
     },
     "execution_count": 87,
     "metadata": {},
     "output_type": "execute_result"
    }
   ],
   "source": [
    "arr2"
   ]
  },
  {
   "cell_type": "markdown",
   "id": "ca15da85-ba9f-4977-adf0-8570e818bc32",
   "metadata": {},
   "source": [
    "# Image Handling"
   ]
  },
  {
   "cell_type": "code",
   "execution_count": 1,
   "id": "9a1c13f8-1c83-4029-a133-4bb095b08296",
   "metadata": {},
   "outputs": [
    {
     "name": "stdout",
     "output_type": "stream",
     "text": [
      "Collecting opencv-python\n",
      "  Using cached opencv_python-4.10.0.84-cp37-abi3-win_amd64.whl.metadata (20 kB)\n",
      "Requirement already satisfied: numpy>=1.21.2 in c:\\users\\dell\\anaconda3\\envs\\dataanalysis\\lib\\site-packages (from opencv-python) (2.1.0)\n",
      "Using cached opencv_python-4.10.0.84-cp37-abi3-win_amd64.whl (38.8 MB)\n",
      "Installing collected packages: opencv-python\n",
      "Successfully installed opencv-python-4.10.0.84\n"
     ]
    }
   ],
   "source": [
    "!pip install opencv-python"
   ]
  },
  {
   "cell_type": "code",
   "execution_count": 169,
   "id": "aa648003-1705-4000-9171-2094b60df183",
   "metadata": {},
   "outputs": [],
   "source": [
    "import cv2\n",
    "import numpy as np"
   ]
  },
  {
   "cell_type": "code",
   "execution_count": 170,
   "id": "f657b723-a501-4a39-8bc4-c38d41b3120d",
   "metadata": {},
   "outputs": [],
   "source": [
    "img = cv2.imread(r\"C:\\Users\\DELL\\Desktop\\image.jpg\")"
   ]
  },
  {
   "cell_type": "code",
   "execution_count": 172,
   "id": "7b4ef8f5-cb18-4905-8639-740a2f5bdbeb",
   "metadata": {},
   "outputs": [
    {
     "data": {
      "text/plain": [
       "(318, 272, 3)"
      ]
     },
     "execution_count": 172,
     "metadata": {},
     "output_type": "execute_result"
    }
   ],
   "source": [
    "img.shape"
   ]
  },
  {
   "cell_type": "code",
   "execution_count": 178,
   "id": "251d58b9-f7fa-46dd-a59a-c5507c6f92f7",
   "metadata": {},
   "outputs": [],
   "source": [
    "cv2.imshow('Image',img[100:1050,20:300])\n",
    "cv2.waitKey(0)\n",
    "cv2.destroyAllWindows()"
   ]
  },
  {
   "cell_type": "code",
   "execution_count": 13,
   "id": "8081d4a8-c0f4-481c-9c85-f1358666ed87",
   "metadata": {},
   "outputs": [],
   "source": [
    "cv2.imshow('Image',np.fliplr(img))\n",
    "cv2.waitKey(0)\n",
    "cv2.destroyAllWindows()"
   ]
  },
  {
   "cell_type": "code",
   "execution_count": 14,
   "id": "5939957d-1f0a-4792-92ab-0d3c4ccc6862",
   "metadata": {},
   "outputs": [],
   "source": [
    "cv2.imshow('Image',np.flipud(img))\n",
    "cv2.waitKey(0)\n",
    "cv2.destroyAllWindows()"
   ]
  },
  {
   "cell_type": "code",
   "execution_count": 15,
   "id": "ea4ef535-54c1-4e9e-96b1-c317436c01ba",
   "metadata": {},
   "outputs": [],
   "source": [
    "cv2.imshow('Image',np.flip(img))\n",
    "cv2.waitKey(0)\n",
    "cv2.destroyAllWindows()"
   ]
  },
  {
   "cell_type": "code",
   "execution_count": 16,
   "id": "aae35bf3-3b53-4973-9ea9-3a49f00b1f0f",
   "metadata": {},
   "outputs": [],
   "source": [
    "cv2.imshow('Image',np.rot90(img))\n",
    "cv2.waitKey(0)\n",
    "cv2.destroyAllWindows()"
   ]
  },
  {
   "cell_type": "markdown",
   "id": "e4ae1aac-f248-4078-9681-98d5e0e03211",
   "metadata": {},
   "source": [
    "# Flatten vs Ravel"
   ]
  },
  {
   "cell_type": "code",
   "execution_count": 1,
   "id": "cbeabc57-ea2e-41b9-9a88-150830ec438a",
   "metadata": {},
   "outputs": [],
   "source": [
    "import numpy as np"
   ]
  },
  {
   "cell_type": "code",
   "execution_count": 2,
   "id": "6f9427c1-172b-4d75-b7ea-ac5d713595a9",
   "metadata": {},
   "outputs": [],
   "source": [
    "arr = np.array([1,3,5,7])"
   ]
  },
  {
   "cell_type": "markdown",
   "id": "2ee4f37a-7467-4e75-8471-74a259579dcf",
   "metadata": {},
   "source": [
    "###### copy vs view"
   ]
  },
  {
   "cell_type": "code",
   "execution_count": 3,
   "id": "0f107333-1c2f-4673-8dc9-901bd8b9d498",
   "metadata": {},
   "outputs": [],
   "source": [
    "arr_copy = arr.copy()\n",
    "arr_view   = arr.view()"
   ]
  },
  {
   "cell_type": "code",
   "execution_count": 4,
   "id": "a29cb78d-5089-48f8-8443-bbf91f502ce8",
   "metadata": {},
   "outputs": [],
   "source": [
    "arr_copy[3] = 100"
   ]
  },
  {
   "cell_type": "code",
   "execution_count": 5,
   "id": "ca9dea94-bf35-4ca3-867f-07a131af3e5b",
   "metadata": {},
   "outputs": [
    {
     "data": {
      "text/plain": [
       "array([  1,   3,   5, 100])"
      ]
     },
     "execution_count": 5,
     "metadata": {},
     "output_type": "execute_result"
    }
   ],
   "source": [
    "arr_copy"
   ]
  },
  {
   "cell_type": "code",
   "execution_count": 6,
   "id": "98f2c92a-061f-4480-b000-f01a6780735f",
   "metadata": {},
   "outputs": [
    {
     "data": {
      "text/plain": [
       "array([1, 3, 5, 7])"
      ]
     },
     "execution_count": 6,
     "metadata": {},
     "output_type": "execute_result"
    }
   ],
   "source": [
    "arr"
   ]
  },
  {
   "cell_type": "code",
   "execution_count": 7,
   "id": "b7954e52-ab62-4653-a799-e4d6f1372640",
   "metadata": {},
   "outputs": [],
   "source": [
    "arr_view[3] = 200"
   ]
  },
  {
   "cell_type": "code",
   "execution_count": 8,
   "id": "dcdb7d39-b5ea-407c-bc51-bb690c6ef2ec",
   "metadata": {},
   "outputs": [
    {
     "data": {
      "text/plain": [
       "array([  1,   3,   5, 200])"
      ]
     },
     "execution_count": 8,
     "metadata": {},
     "output_type": "execute_result"
    }
   ],
   "source": [
    "arr_view"
   ]
  },
  {
   "cell_type": "code",
   "execution_count": 9,
   "id": "5cd5a5fa-cd3a-40b0-8f78-df1df321269b",
   "metadata": {},
   "outputs": [
    {
     "data": {
      "text/plain": [
       "array([  1,   3,   5, 200])"
      ]
     },
     "execution_count": 9,
     "metadata": {},
     "output_type": "execute_result"
    }
   ],
   "source": [
    "arr"
   ]
  },
  {
   "cell_type": "code",
   "execution_count": 4,
   "id": "ed3950c7-6208-430a-ae5d-35b5d5d2c0ac",
   "metadata": {},
   "outputs": [
    {
     "data": {
      "text/plain": [
       "array([[[12, 13, 14, 15],\n",
       "        [16, 17, 18, 19],\n",
       "        [20, 21, 22, 23]]])"
      ]
     },
     "execution_count": 4,
     "metadata": {},
     "output_type": "execute_result"
    }
   ],
   "source": [
    "array_original = np.arange(12,24).reshape((1,3,4))\n",
    "array_original"
   ]
  },
  {
   "cell_type": "code",
   "execution_count": 7,
   "id": "63c1cbad-4420-4d60-8c75-c2bfed55f034",
   "metadata": {},
   "outputs": [
    {
     "data": {
      "text/plain": [
       "array([12, 13, 14, 15, 16, 17, 18, 19, 20, 21, 22, 23])"
      ]
     },
     "execution_count": 7,
     "metadata": {},
     "output_type": "execute_result"
    }
   ],
   "source": [
    "arr_flat = array_original.flatten()\n",
    "arr_flat"
   ]
  },
  {
   "cell_type": "code",
   "execution_count": 8,
   "id": "52d67ad9-2516-49eb-aaea-4a763ad26ddc",
   "metadata": {},
   "outputs": [
    {
     "data": {
      "text/plain": [
       "array([12, 13, 14, 15, 16, 17, 18, 19, 20, 21, 22, 23])"
      ]
     },
     "execution_count": 8,
     "metadata": {},
     "output_type": "execute_result"
    }
   ],
   "source": [
    "arr_ravel = array_original.ravel()\n",
    "arr_ravel"
   ]
  },
  {
   "cell_type": "code",
   "execution_count": 9,
   "id": "2c0a6c74-04b6-41ae-9f30-232d967896b4",
   "metadata": {},
   "outputs": [],
   "source": [
    "arr_flat[3] = 12"
   ]
  },
  {
   "cell_type": "code",
   "execution_count": 11,
   "id": "f919202c-5d50-4f18-89b9-d9010188a056",
   "metadata": {},
   "outputs": [
    {
     "data": {
      "text/plain": [
       "array([[[12, 13, 14, 15],\n",
       "        [16, 17, 18, 19],\n",
       "        [20, 21, 22, 23]]])"
      ]
     },
     "execution_count": 11,
     "metadata": {},
     "output_type": "execute_result"
    }
   ],
   "source": [
    "array_original"
   ]
  },
  {
   "cell_type": "code",
   "execution_count": 12,
   "id": "c507ec95-8b54-4288-a6ce-edd863dd0214",
   "metadata": {},
   "outputs": [],
   "source": [
    "arr_ravel[4] = 5000"
   ]
  },
  {
   "cell_type": "code",
   "execution_count": 13,
   "id": "1a2dd105-9bd0-4f6a-9587-aaa7b78dfaa3",
   "metadata": {},
   "outputs": [
    {
     "data": {
      "text/plain": [
       "array([[[  12,   13,   14,   15],\n",
       "        [5000,   17,   18,   19],\n",
       "        [  20,   21,   22,   23]]])"
      ]
     },
     "execution_count": 13,
     "metadata": {},
     "output_type": "execute_result"
    }
   ],
   "source": [
    "array_original"
   ]
  },
  {
   "cell_type": "markdown",
   "id": "ada8ed48-01f2-4b76-93d9-73d1012d5c88",
   "metadata": {},
   "source": [
    "# Masking/Array Manipulation"
   ]
  },
  {
   "cell_type": "code",
   "execution_count": 17,
   "id": "67da0a53-9bd5-4655-8437-98a2c44c48d2",
   "metadata": {},
   "outputs": [],
   "source": [
    "salary = np.random.randint(10000,100000,50)"
   ]
  },
  {
   "cell_type": "code",
   "execution_count": 19,
   "id": "717b42bb-947a-4003-a18d-ee712edce784",
   "metadata": {},
   "outputs": [],
   "source": [
    "age = np.random.randint(25,55,50)"
   ]
  },
  {
   "cell_type": "code",
   "execution_count": 20,
   "id": "2da6b001-dbd0-495e-a485-7a1167e15e32",
   "metadata": {},
   "outputs": [
    {
     "data": {
      "text/plain": [
       "array([45, 39, 41, 26, 35, 34, 40, 45, 34, 34, 44, 39, 39, 28, 30, 41, 31,\n",
       "       53, 49, 53, 53, 45, 37, 34, 36, 25, 33, 45, 40, 48, 39, 47, 52, 44,\n",
       "       49, 39, 50, 41, 25, 36, 43, 30, 35, 53, 42, 46, 47, 27, 44, 48],\n",
       "      dtype=int32)"
      ]
     },
     "execution_count": 20,
     "metadata": {},
     "output_type": "execute_result"
    }
   ],
   "source": [
    "age"
   ]
  },
  {
   "cell_type": "code",
   "execution_count": 21,
   "id": "c439b9e0-29f9-40c7-b7ef-e8ad3cf689ce",
   "metadata": {},
   "outputs": [
    {
     "data": {
      "text/plain": [
       "array([77543, 57550, 37896, 26200, 26901, 62718, 53701, 52693, 12343,\n",
       "       71153, 18085, 29485, 32854, 31492, 25840, 55413, 65401, 92385,\n",
       "       77442, 35975, 48519, 99660, 51504, 85465, 63646, 89291, 21395,\n",
       "       17733, 16327, 97502, 48246, 58330, 96546, 91180, 52939, 18305,\n",
       "       48750, 65395, 77977, 73670, 83654, 23758, 28706, 72284, 63570,\n",
       "       58035, 60128, 64275, 54025, 92292], dtype=int32)"
      ]
     },
     "execution_count": 21,
     "metadata": {},
     "output_type": "execute_result"
    }
   ],
   "source": [
    "salary"
   ]
  },
  {
   "cell_type": "code",
   "execution_count": null,
   "id": "4df2f51b-9c2c-4c8b-9879-40ddc3b685b6",
   "metadata": {},
   "outputs": [],
   "source": [
    "1. How many employes are who gets more than 60000 salary ?\n",
    "2. What is the average salary ?\n",
    "3. How many employee are than whose age is more than 50 years?\n",
    "4. How many employess whose age is less than 30 years and salary is greater than 40 years ?\n",
    "5.What is the avergage salary of employess whose salary is greater than 50 k ?\n",
    "6. What is the varince in the age ?\n",
    "7. What is the median salary of employes whose salary is less than 30 k ?"
   ]
  },
  {
   "cell_type": "code",
   "execution_count": 24,
   "id": "0adff380-6ff2-4f72-8311-5826be7c941c",
   "metadata": {},
   "outputs": [
    {
     "data": {
      "text/plain": [
       "np.int64(22)"
      ]
     },
     "execution_count": 24,
     "metadata": {},
     "output_type": "execute_result"
    }
   ],
   "source": [
    "#1. How many employes are who gets more than 60000 salary ?\n",
    "sum(salary > 60000)"
   ]
  },
  {
   "cell_type": "code",
   "execution_count": 25,
   "id": "d3996ac9-f3d1-4eb8-8f23-579f8eb3f326",
   "metadata": {},
   "outputs": [
    {
     "data": {
      "text/plain": [
       "np.float64(55323.54)"
      ]
     },
     "execution_count": 25,
     "metadata": {},
     "output_type": "execute_result"
    }
   ],
   "source": [
    "#2. What is the average salary ?\n",
    "np.mean(salary)"
   ]
  },
  {
   "cell_type": "code",
   "execution_count": 27,
   "id": "f4bbe87b-bc45-4782-9eea-0ab56245c260",
   "metadata": {},
   "outputs": [
    {
     "data": {
      "text/plain": [
       "np.int64(5)"
      ]
     },
     "execution_count": 27,
     "metadata": {},
     "output_type": "execute_result"
    }
   ],
   "source": [
    "#3. How many employee are  whose age is more than 50 years?\n",
    "\n",
    "sum(age > 50)"
   ]
  },
  {
   "cell_type": "code",
   "execution_count": 29,
   "id": "6e5093d3-d7f1-47b5-86fa-ba41dfa1eed0",
   "metadata": {},
   "outputs": [
    {
     "data": {
      "text/plain": [
       "np.int64(3)"
      ]
     },
     "execution_count": 29,
     "metadata": {},
     "output_type": "execute_result"
    }
   ],
   "source": [
    "#4. How many employess whose age is less than 30 years and salary is greater than 40k ?\n",
    "sum((salary > 40000) &   (age < 30))"
   ]
  },
  {
   "cell_type": "code",
   "execution_count": 34,
   "id": "567ca0c7-c259-4c01-8981-2e4420ef2def",
   "metadata": {},
   "outputs": [
    {
     "data": {
      "text/plain": [
       "np.float64(71527.96774193548)"
      ]
     },
     "execution_count": 34,
     "metadata": {},
     "output_type": "execute_result"
    }
   ],
   "source": [
    "#5.What is the avergage salary of employess whose salary is greater than 50 k ?\n",
    "\n",
    "salary[salary > 50000].mean()"
   ]
  },
  {
   "cell_type": "code",
   "execution_count": 35,
   "id": "87b22f1d-d544-4da1-8638-16d7328c61ec",
   "metadata": {},
   "outputs": [
    {
     "data": {
      "text/plain": [
       "np.float64(71527.96774193548)"
      ]
     },
     "execution_count": 35,
     "metadata": {},
     "output_type": "execute_result"
    }
   ],
   "source": [
    "np.mean(salary[salary > 50000])"
   ]
  },
  {
   "cell_type": "code",
   "execution_count": 36,
   "id": "2b72bf59-1ae3-42b4-87de-a7cd624a6763",
   "metadata": {},
   "outputs": [
    {
     "data": {
      "text/plain": [
       "np.float64(60.672399999999996)"
      ]
     },
     "execution_count": 36,
     "metadata": {},
     "output_type": "execute_result"
    }
   ],
   "source": [
    "#6. What is the varince in the age ?\n",
    "np.var(age)"
   ]
  },
  {
   "cell_type": "code",
   "execution_count": 41,
   "id": "4ccb9447-6ea8-4f86-8235-6e3b63b54903",
   "metadata": {},
   "outputs": [
    {
     "data": {
      "text/plain": [
       "np.float64(22576.5)"
      ]
     },
     "execution_count": 41,
     "metadata": {},
     "output_type": "execute_result"
    }
   ],
   "source": [
    "#7. What is the median salary of employes whose salary is less than 30 k ?\n",
    "\n",
    "np.median(salary[salary <30000])"
   ]
  },
  {
   "cell_type": "markdown",
   "id": "92e4459c-b886-4923-9e71-4c0a6bbf5463",
   "metadata": {},
   "source": [
    "## np.where()"
   ]
  },
  {
   "cell_type": "markdown",
   "id": "1330518a-eb72-4fc8-a425-696f9295be7f",
   "metadata": {},
   "source": [
    "##### np.where(condition,True Value,False Value)"
   ]
  },
  {
   "cell_type": "code",
   "execution_count": 42,
   "id": "be3c2820-2efd-45cb-8bb2-60b10d7b30f7",
   "metadata": {},
   "outputs": [
    {
     "data": {
      "text/plain": [
       "array([77543, 57550, 37896, 26200, 26901, 62718, 53701, 52693, 12343,\n",
       "       71153, 18085, 29485, 32854, 31492, 25840, 55413, 65401, 92385,\n",
       "       77442, 35975, 48519, 99660, 51504, 85465, 63646, 89291, 21395,\n",
       "       17733, 16327, 97502, 48246, 58330, 96546, 91180, 52939, 18305,\n",
       "       48750, 65395, 77977, 73670, 83654, 23758, 28706, 72284, 63570,\n",
       "       58035, 60128, 64275, 54025, 92292], dtype=int32)"
      ]
     },
     "execution_count": 42,
     "metadata": {},
     "output_type": "execute_result"
    }
   ],
   "source": [
    "salary"
   ]
  },
  {
   "cell_type": "code",
   "execution_count": null,
   "id": "098eac18-ae92-4308-b5b3-8046b9c03ec4",
   "metadata": {},
   "outputs": [],
   "source": [
    "<50000 + 5000\n",
    ">50000 +1000"
   ]
  },
  {
   "cell_type": "code",
   "execution_count": 43,
   "id": "1052ca2b-49cd-4318-b8ad-ad7150291f69",
   "metadata": {},
   "outputs": [
    {
     "data": {
      "text/plain": [
       "array([ 78543,  58550,  42896,  31200,  31901,  63718,  54701,  53693,\n",
       "        17343,  72153,  23085,  34485,  37854,  36492,  30840,  56413,\n",
       "        66401,  93385,  78442,  40975,  53519, 100660,  52504,  86465,\n",
       "        64646,  90291,  26395,  22733,  21327,  98502,  53246,  59330,\n",
       "        97546,  92180,  53939,  23305,  53750,  66395,  78977,  74670,\n",
       "        84654,  28758,  33706,  73284,  64570,  59035,  61128,  65275,\n",
       "        55025,  93292], dtype=int32)"
      ]
     },
     "execution_count": 43,
     "metadata": {},
     "output_type": "execute_result"
    }
   ],
   "source": [
    "np.where(salary < 50000,salary+5000,salary+1000)"
   ]
  },
  {
   "cell_type": "markdown",
   "id": "15c73526-cd8d-48eb-8c21-1d80c5f72551",
   "metadata": {},
   "source": [
    "## Mathematical Functions"
   ]
  },
  {
   "cell_type": "markdown",
   "id": "d130de92-ebdf-4d3e-b2d4-c1e79236237e",
   "metadata": {},
   "source": [
    "### Constants"
   ]
  },
  {
   "cell_type": "code",
   "execution_count": 45,
   "id": "181953a8-e8a2-47b3-a801-1ba4285280d6",
   "metadata": {},
   "outputs": [
    {
     "data": {
      "text/plain": [
       "3.141592653589793"
      ]
     },
     "execution_count": 45,
     "metadata": {},
     "output_type": "execute_result"
    }
   ],
   "source": [
    "np.pi  "
   ]
  },
  {
   "cell_type": "code",
   "execution_count": 46,
   "id": "9972877e-0369-4254-856c-2f341d20f57f",
   "metadata": {},
   "outputs": [
    {
     "data": {
      "text/plain": [
       "2.718281828459045"
      ]
     },
     "execution_count": 46,
     "metadata": {},
     "output_type": "execute_result"
    }
   ],
   "source": [
    "np.e"
   ]
  },
  {
   "cell_type": "code",
   "execution_count": 47,
   "id": "76d6820b-3071-4f7f-989f-48447bfdc399",
   "metadata": {},
   "outputs": [
    {
     "data": {
      "text/plain": [
       "inf"
      ]
     },
     "execution_count": 47,
     "metadata": {},
     "output_type": "execute_result"
    }
   ],
   "source": [
    "np.inf  #infinity"
   ]
  },
  {
   "cell_type": "code",
   "execution_count": 48,
   "id": "6b29af19-2f2b-4ea4-bf20-3e2bbe1b0146",
   "metadata": {},
   "outputs": [
    {
     "ename": "ZeroDivisionError",
     "evalue": "division by zero",
     "output_type": "error",
     "traceback": [
      "\u001b[1;31m---------------------------------------------------------------------------\u001b[0m",
      "\u001b[1;31mZeroDivisionError\u001b[0m                         Traceback (most recent call last)",
      "Cell \u001b[1;32mIn[48], line 1\u001b[0m\n\u001b[1;32m----> 1\u001b[0m \u001b[38;5;241m2\u001b[39m\u001b[38;5;241m/\u001b[39m\u001b[38;5;241m0\u001b[39m\n",
      "\u001b[1;31mZeroDivisionError\u001b[0m: division by zero"
     ]
    }
   ],
   "source": [
    "2/0"
   ]
  },
  {
   "cell_type": "code",
   "execution_count": 49,
   "id": "4c8ab899-c3e4-4fdf-88f2-ab9bccb513d3",
   "metadata": {},
   "outputs": [
    {
     "name": "stderr",
     "output_type": "stream",
     "text": [
      "C:\\Users\\DELL\\AppData\\Local\\Temp\\ipykernel_16724\\2850974895.py:1: RuntimeWarning: divide by zero encountered in divide\n",
      "  np.array([2,3]) / 0\n"
     ]
    },
    {
     "data": {
      "text/plain": [
       "array([inf, inf])"
      ]
     },
     "execution_count": 49,
     "metadata": {},
     "output_type": "execute_result"
    }
   ],
   "source": [
    "np.array([2,3]) / 0"
   ]
  },
  {
   "cell_type": "code",
   "execution_count": 50,
   "id": "20756cba-89a7-4d71-ae75-83f5d1f7b133",
   "metadata": {},
   "outputs": [
    {
     "data": {
      "text/plain": [
       "nan"
      ]
     },
     "execution_count": 50,
     "metadata": {},
     "output_type": "execute_result"
    }
   ],
   "source": [
    "np.nan   #Missing value"
   ]
  },
  {
   "cell_type": "code",
   "execution_count": 51,
   "id": "c48d3623-d923-431b-8444-c1ec64380de6",
   "metadata": {},
   "outputs": [],
   "source": [
    "age = np.array([23,45,67,np.nan,42])"
   ]
  },
  {
   "cell_type": "code",
   "execution_count": 52,
   "id": "47006ade-097b-4a7b-a348-893dfdf9ab8c",
   "metadata": {},
   "outputs": [
    {
     "data": {
      "text/plain": [
       "np.float64(nan)"
      ]
     },
     "execution_count": 52,
     "metadata": {},
     "output_type": "execute_result"
    }
   ],
   "source": [
    "np.mean(age)"
   ]
  },
  {
   "cell_type": "code",
   "execution_count": 53,
   "id": "03c8e450-efc5-415d-b2b0-136894eb6c16",
   "metadata": {},
   "outputs": [
    {
     "data": {
      "text/plain": [
       "np.float64(44.25)"
      ]
     },
     "execution_count": 53,
     "metadata": {},
     "output_type": "execute_result"
    }
   ],
   "source": [
    "np.nanmean(age)"
   ]
  },
  {
   "cell_type": "code",
   "execution_count": 56,
   "id": "e14af7ba-cb1f-4106-971e-b236ddd8f791",
   "metadata": {},
   "outputs": [
    {
     "data": {
      "text/plain": [
       "np.float64(23.0)"
      ]
     },
     "execution_count": 56,
     "metadata": {},
     "output_type": "execute_result"
    }
   ],
   "source": [
    "np.nanmin(age)"
   ]
  },
  {
   "cell_type": "markdown",
   "id": "bcb1ddf1-b437-40bf-9faa-c85ad95ca01b",
   "metadata": {},
   "source": [
    "#### Linear algebra"
   ]
  },
  {
   "cell_type": "code",
   "execution_count": 59,
   "id": "79dd88c6-17c3-4bca-b880-42b2d5f5bba9",
   "metadata": {},
   "outputs": [
    {
     "data": {
      "text/plain": [
       "array([[5],\n",
       "       [6]])"
      ]
     },
     "execution_count": 59,
     "metadata": {},
     "output_type": "execute_result"
    }
   ],
   "source": [
    "a = np.array([[1,2],[2,-3]])\n",
    "b = np.array([[5],[6]])\n",
    "b"
   ]
  },
  {
   "cell_type": "code",
   "execution_count": 60,
   "id": "143ce1b8-1dca-4820-a0ae-62d449f539db",
   "metadata": {},
   "outputs": [
    {
     "data": {
      "text/plain": [
       "array([[3.85714286],\n",
       "       [0.57142857]])"
      ]
     },
     "execution_count": 60,
     "metadata": {},
     "output_type": "execute_result"
    }
   ],
   "source": [
    "np.linalg.solve(a,b)"
   ]
  },
  {
   "cell_type": "code",
   "execution_count": 62,
   "id": "61b911c3-6a3a-45ad-9784-0a16b62e15c3",
   "metadata": {},
   "outputs": [
    {
     "data": {
      "text/plain": [
       "0.5714285714285714"
      ]
     },
     "execution_count": 62,
     "metadata": {},
     "output_type": "execute_result"
    }
   ],
   "source": [
    "4/7"
   ]
  },
  {
   "cell_type": "code",
   "execution_count": null,
   "id": "59f92fe6-6225-4622-9bf6-e1efb82d1472",
   "metadata": {},
   "outputs": [],
   "source": [
    "2x +3y -10z = 23\n",
    "10x+4y - 9z = 1\n",
    "3x+10y-z = 100"
   ]
  },
  {
   "cell_type": "code",
   "execution_count": 63,
   "id": "710953ba-c6c8-4f89-b8d2-8efabe049193",
   "metadata": {},
   "outputs": [],
   "source": [
    "a = np.array([[2,3,-10],[10,4,-9],[3,10,-1]])\n",
    "b = np.array([[23],[1],[100]])"
   ]
  },
  {
   "cell_type": "code",
   "execution_count": 64,
   "id": "a5e4900b-9374-4885-937b-e73d65268dd9",
   "metadata": {},
   "outputs": [
    {
     "data": {
      "text/plain": [
       "array([[-4.19104084],\n",
       "       [11.28194993],\n",
       "       [ 0.24637681]])"
      ]
     },
     "execution_count": 64,
     "metadata": {},
     "output_type": "execute_result"
    }
   ],
   "source": [
    "np.linalg.solve(a,b)"
   ]
  },
  {
   "cell_type": "code",
   "execution_count": 66,
   "id": "dd25e9e8-b228-4879-8a62-49e411c82a9c",
   "metadata": {},
   "outputs": [],
   "source": [
    "a = np.array([[1,2],[3,4]])"
   ]
  },
  {
   "cell_type": "code",
   "execution_count": 67,
   "id": "ea45dcdc-518a-487c-a969-4082505ad4b1",
   "metadata": {},
   "outputs": [
    {
     "data": {
      "text/plain": [
       "np.float64(-2.0000000000000004)"
      ]
     },
     "execution_count": 67,
     "metadata": {},
     "output_type": "execute_result"
    }
   ],
   "source": [
    "np.linalg.det(a)"
   ]
  },
  {
   "cell_type": "code",
   "execution_count": 69,
   "id": "10bba08a-081e-43b9-8acc-6f4dc98733c0",
   "metadata": {},
   "outputs": [
    {
     "data": {
      "text/plain": [
       "array([[ 1,  2,  3],\n",
       "       [ 4,  6,  8],\n",
       "       [ 9,  5, 11]])"
      ]
     },
     "execution_count": 69,
     "metadata": {},
     "output_type": "execute_result"
    }
   ],
   "source": [
    "x = np.array([[1,2,3],[4,6,8],[9,5,11]])\n",
    "x"
   ]
  },
  {
   "cell_type": "code",
   "execution_count": 70,
   "id": "1feb58b6-0a2f-4181-835a-a67fde9230e4",
   "metadata": {},
   "outputs": [
    {
     "data": {
      "text/plain": [
       "np.float64(-19.99999999999999)"
      ]
     },
     "execution_count": 70,
     "metadata": {},
     "output_type": "execute_result"
    }
   ],
   "source": [
    "np.linalg.det(x)"
   ]
  },
  {
   "cell_type": "code",
   "execution_count": 71,
   "id": "46cb1a8e-7b2a-4ecb-89be-d9039b17349c",
   "metadata": {},
   "outputs": [],
   "source": [
    "x  = np.array([[1,2],[3,5]])\n",
    "y = np.array([[3],[6]])"
   ]
  },
  {
   "cell_type": "code",
   "execution_count": 72,
   "id": "3149c6da-8e64-4cbe-90b7-991961331f23",
   "metadata": {},
   "outputs": [
    {
     "data": {
      "text/plain": [
       "array([[15],\n",
       "       [39]])"
      ]
     },
     "execution_count": 72,
     "metadata": {},
     "output_type": "execute_result"
    }
   ],
   "source": [
    "np.dot(x,y)"
   ]
  },
  {
   "cell_type": "markdown",
   "id": "263c7b62-abd5-45a5-9c09-6fcf5561672b",
   "metadata": {},
   "source": [
    "#Trigonometric"
   ]
  },
  {
   "cell_type": "code",
   "execution_count": 79,
   "id": "ae2dfefa-784c-4bd5-9f2f-058bdbd070a6",
   "metadata": {},
   "outputs": [],
   "source": [
    "angle = np.pi/2"
   ]
  },
  {
   "cell_type": "code",
   "execution_count": 80,
   "id": "77df927c-4359-4e65-8598-0167a0d2af8c",
   "metadata": {},
   "outputs": [
    {
     "data": {
      "text/plain": [
       "np.float64(1.0)"
      ]
     },
     "execution_count": 80,
     "metadata": {},
     "output_type": "execute_result"
    }
   ],
   "source": [
    "np.sin(angle)"
   ]
  },
  {
   "cell_type": "code",
   "execution_count": 81,
   "id": "b73aff8d-861d-4100-b58c-dc89b8121e87",
   "metadata": {},
   "outputs": [
    {
     "data": {
      "text/plain": [
       "np.float64(6.123233995736766e-17)"
      ]
     },
     "execution_count": 81,
     "metadata": {},
     "output_type": "execute_result"
    }
   ],
   "source": [
    "np.cos(angle)"
   ]
  },
  {
   "cell_type": "code",
   "execution_count": 82,
   "id": "73126761-bdbf-44d2-9143-b0e7176de418",
   "metadata": {},
   "outputs": [
    {
     "data": {
      "text/plain": [
       "np.float64(1.633123935319537e+16)"
      ]
     },
     "execution_count": 82,
     "metadata": {},
     "output_type": "execute_result"
    }
   ],
   "source": [
    "np.tan(angle)"
   ]
  },
  {
   "cell_type": "code",
   "execution_count": 83,
   "id": "6de52512-531a-4486-9e3a-88ca431295b3",
   "metadata": {},
   "outputs": [
    {
     "data": {
      "text/plain": [
       "np.float64(2.3012989023072947)"
      ]
     },
     "execution_count": 83,
     "metadata": {},
     "output_type": "execute_result"
    }
   ],
   "source": [
    "np.sinh(angle)"
   ]
  },
  {
   "cell_type": "markdown",
   "id": "c39bdcd1-b5dc-472b-956e-c43be190d63b",
   "metadata": {},
   "source": [
    "## Set Operations"
   ]
  },
  {
   "cell_type": "code",
   "execution_count": 87,
   "id": "739c70b5-7a58-4cdc-a6f9-8ca7f1624577",
   "metadata": {},
   "outputs": [],
   "source": [
    "a = np.array([[1,2,3,5,7]])\n",
    "b = np.array([[5,7,8,9,10]])"
   ]
  },
  {
   "cell_type": "code",
   "execution_count": 91,
   "id": "3834b78a-d115-4b18-8337-19dc7eece2a9",
   "metadata": {},
   "outputs": [
    {
     "data": {
      "text/plain": [
       "array([ 1,  2,  3,  5,  7,  8,  9, 10])"
      ]
     },
     "execution_count": 91,
     "metadata": {},
     "output_type": "execute_result"
    }
   ],
   "source": [
    "np.union1d(a,b)  #combination of all unique elements"
   ]
  },
  {
   "cell_type": "code",
   "execution_count": 92,
   "id": "86db70fe-18a9-44f6-bcc6-6e108588b170",
   "metadata": {},
   "outputs": [
    {
     "data": {
      "text/plain": [
       "array([5, 7])"
      ]
     },
     "execution_count": 92,
     "metadata": {},
     "output_type": "execute_result"
    }
   ],
   "source": [
    "np.intersect1d(a,b)  #common elements"
   ]
  },
  {
   "cell_type": "code",
   "execution_count": 93,
   "id": "9d08a4c9-8f1f-4a12-ab8f-124861e875f4",
   "metadata": {},
   "outputs": [
    {
     "data": {
      "text/plain": [
       "array([1, 2, 3])"
      ]
     },
     "execution_count": 93,
     "metadata": {},
     "output_type": "execute_result"
    }
   ],
   "source": [
    "np.setdiff1d(a,b) #The elements present in a but not in b"
   ]
  },
  {
   "cell_type": "markdown",
   "id": "ae19860d-f036-4ab2-a956-8c824179c685",
   "metadata": {},
   "source": [
    "## Array Broadcasting"
   ]
  },
  {
   "cell_type": "code",
   "execution_count": 2,
   "id": "2bfc36f1-4e9f-4f0a-85ba-09406cf8f4cd",
   "metadata": {},
   "outputs": [],
   "source": [
    "import numpy as np"
   ]
  },
  {
   "cell_type": "code",
   "execution_count": 10,
   "id": "80b2ec6e-c1de-47d2-b110-30779624203c",
   "metadata": {},
   "outputs": [
    {
     "data": {
      "text/plain": [
       "(4, 2)"
      ]
     },
     "execution_count": 10,
     "metadata": {},
     "output_type": "execute_result"
    }
   ],
   "source": [
    "a = np.arange(0,8).reshape(4,2)\n",
    "a.shape"
   ]
  },
  {
   "cell_type": "code",
   "execution_count": 12,
   "id": "8d96ee7c-6582-48ea-8f96-ed8d8154a514",
   "metadata": {},
   "outputs": [
    {
     "data": {
      "text/plain": [
       "array([[0, 1],\n",
       "       [2, 3],\n",
       "       [4, 5],\n",
       "       [6, 7]])"
      ]
     },
     "execution_count": 12,
     "metadata": {},
     "output_type": "execute_result"
    }
   ],
   "source": [
    "a"
   ]
  },
  {
   "cell_type": "code",
   "execution_count": null,
   "id": "b3cf440f-a475-4fbd-be11-445f53915ccf",
   "metadata": {},
   "outputs": [],
   "source": []
  },
  {
   "cell_type": "code",
   "execution_count": 13,
   "id": "c57de81d-57ac-4a1f-bcbe-96f82b935c72",
   "metadata": {},
   "outputs": [
    {
     "data": {
      "text/plain": [
       "(1, 3)"
      ]
     },
     "execution_count": 13,
     "metadata": {},
     "output_type": "execute_result"
    }
   ],
   "source": [
    "b = np.array([[2,3,1]])\n",
    "b.shape"
   ]
  },
  {
   "cell_type": "markdown",
   "id": "7bc88713-f47c-4916-ae28-c9b0f0211c95",
   "metadata": {},
   "source": [
    "#### 1. if anyone of the arrays having single element then we can perfrom boradcasting`"
   ]
  },
  {
   "cell_type": "code",
   "execution_count": 15,
   "id": "6a375fc3-63ab-4fe2-87cc-b91fdfd60e0a",
   "metadata": {},
   "outputs": [
    {
     "data": {
      "text/plain": [
       "array([[0, 1, 2, 3],\n",
       "       [4, 5, 6, 7]])"
      ]
     },
     "execution_count": 15,
     "metadata": {},
     "output_type": "execute_result"
    }
   ],
   "source": [
    "x = np.arange(0,8).reshape(2,4)\n",
    "x"
   ]
  },
  {
   "cell_type": "code",
   "execution_count": 16,
   "id": "fcfa9abd-f9aa-4994-b19a-cafac8839114",
   "metadata": {},
   "outputs": [
    {
     "data": {
      "text/plain": [
       "array([[2]])"
      ]
     },
     "execution_count": 16,
     "metadata": {},
     "output_type": "execute_result"
    }
   ],
   "source": [
    "y = np.array([[2]])\n",
    "y"
   ]
  },
  {
   "cell_type": "code",
   "execution_count": 17,
   "id": "14bfe7a7-f9fa-4bce-b7de-117732b6b8b4",
   "metadata": {},
   "outputs": [
    {
     "data": {
      "text/plain": [
       "array([[2, 3, 4, 5],\n",
       "       [6, 7, 8, 9]])"
      ]
     },
     "execution_count": 17,
     "metadata": {},
     "output_type": "execute_result"
    }
   ],
   "source": [
    "x + y"
   ]
  },
  {
   "cell_type": "markdown",
   "id": "cee53caf-fa1a-4794-adeb-76d7e14a8836",
   "metadata": {},
   "source": [
    "##### 2. Th right most value of shapes must be equal and anyone can be 1."
   ]
  },
  {
   "cell_type": "code",
   "execution_count": 19,
   "id": "6f08fe4d-185e-4087-b48a-98d4bc17ad82",
   "metadata": {},
   "outputs": [
    {
     "data": {
      "text/plain": [
       "(3, 3)"
      ]
     },
     "execution_count": 19,
     "metadata": {},
     "output_type": "execute_result"
    }
   ],
   "source": [
    "a = np.array([[1,2,3],[4,5,6],[7,8,9]])\n",
    "a.shape"
   ]
  },
  {
   "cell_type": "code",
   "execution_count": 21,
   "id": "ae88cd7c-d4ae-4166-837e-6aa656ca9839",
   "metadata": {},
   "outputs": [
    {
     "data": {
      "text/plain": [
       "(1, 3)"
      ]
     },
     "execution_count": 21,
     "metadata": {},
     "output_type": "execute_result"
    }
   ],
   "source": [
    "b = np.array([[10,11,12]])\n",
    "b.shape"
   ]
  },
  {
   "cell_type": "code",
   "execution_count": 22,
   "id": "625ee37b-1465-4c61-9fa1-1dfffce5bf13",
   "metadata": {},
   "outputs": [
    {
     "data": {
      "text/plain": [
       "array([[11, 13, 15],\n",
       "       [14, 16, 18],\n",
       "       [17, 19, 21]])"
      ]
     },
     "execution_count": 22,
     "metadata": {},
     "output_type": "execute_result"
    }
   ],
   "source": [
    "a + b"
   ]
  },
  {
   "cell_type": "code",
   "execution_count": 23,
   "id": "2cca397a-e6b9-4e6d-9b2c-358e2597b268",
   "metadata": {},
   "outputs": [
    {
     "data": {
      "text/plain": [
       "(3, 3)"
      ]
     },
     "execution_count": 23,
     "metadata": {},
     "output_type": "execute_result"
    }
   ],
   "source": [
    "a = np.array([[1,2,3],[4,5,6],[7,8,9]])\n",
    "a.shape"
   ]
  },
  {
   "cell_type": "code",
   "execution_count": 24,
   "id": "89a1d608-950c-4888-b95d-05c1bbf661ee",
   "metadata": {},
   "outputs": [
    {
     "data": {
      "text/plain": [
       "(2, 3)"
      ]
     },
     "execution_count": 24,
     "metadata": {},
     "output_type": "execute_result"
    }
   ],
   "source": [
    "b = np.array([[10,11,12],[13,14,15]])\n",
    "b.shape"
   ]
  },
  {
   "cell_type": "markdown",
   "id": "1a495fbf-2200-426a-9c2f-7cfa2bba7355",
   "metadata": {},
   "source": [
    "##### 3. The rightmost of any array should be 1 and remaining should be matched"
   ]
  },
  {
   "cell_type": "code",
   "execution_count": 28,
   "id": "c519bf3b-526f-4594-9486-4caefd914b2c",
   "metadata": {},
   "outputs": [
    {
     "data": {
      "text/plain": [
       "(3, 3)"
      ]
     },
     "execution_count": 28,
     "metadata": {},
     "output_type": "execute_result"
    }
   ],
   "source": [
    "x = np.array([[1,2,3],[4,5,6],[7,8,9]])\n",
    "x.shape"
   ]
  },
  {
   "cell_type": "code",
   "execution_count": 35,
   "id": "b02665b7-f344-40fe-a00c-22463955c76f",
   "metadata": {},
   "outputs": [
    {
     "data": {
      "text/plain": [
       "(3, 1)"
      ]
     },
     "execution_count": 35,
     "metadata": {},
     "output_type": "execute_result"
    }
   ],
   "source": [
    "y = np.array([[10],[11],[12]])\n",
    "y.shape"
   ]
  },
  {
   "cell_type": "code",
   "execution_count": 36,
   "id": "4a609c59-ac94-4f89-991a-b1a0a889f836",
   "metadata": {},
   "outputs": [
    {
     "data": {
      "text/plain": [
       "array([[11, 12, 13],\n",
       "       [15, 16, 17],\n",
       "       [19, 20, 21]])"
      ]
     },
     "execution_count": 36,
     "metadata": {},
     "output_type": "execute_result"
    }
   ],
   "source": [
    "x +y"
   ]
  },
  {
   "cell_type": "markdown",
   "id": "ee369b0f-502a-4791-9f79-0cc6a98f4bd8",
   "metadata": {},
   "source": [
    "## Sorting and Searching"
   ]
  },
  {
   "cell_type": "code",
   "execution_count": 37,
   "id": "714ae5a3-8c14-4e06-9589-29061857a2e3",
   "metadata": {},
   "outputs": [],
   "source": [
    "a = np.random.randint(10,100,10)"
   ]
  },
  {
   "cell_type": "code",
   "execution_count": 38,
   "id": "fa61c32b-2154-44d6-830d-bc1648246207",
   "metadata": {},
   "outputs": [
    {
     "data": {
      "text/plain": [
       "array([65, 39, 17, 13, 46, 78, 45, 80, 21, 56], dtype=int32)"
      ]
     },
     "execution_count": 38,
     "metadata": {},
     "output_type": "execute_result"
    }
   ],
   "source": [
    "a"
   ]
  },
  {
   "cell_type": "code",
   "execution_count": 39,
   "id": "3ac45b1a-5f04-4dea-86f6-ab5e0120fcd5",
   "metadata": {},
   "outputs": [
    {
     "data": {
      "text/plain": [
       "array([13, 17, 21, 39, 45, 46, 56, 65, 78, 80], dtype=int32)"
      ]
     },
     "execution_count": 39,
     "metadata": {},
     "output_type": "execute_result"
    }
   ],
   "source": [
    "np.sort(a)"
   ]
  },
  {
   "cell_type": "code",
   "execution_count": 40,
   "id": "0b452e7f-acf5-4b55-bd57-9d794b74a486",
   "metadata": {},
   "outputs": [
    {
     "data": {
      "text/plain": [
       "np.int32(80)"
      ]
     },
     "execution_count": 40,
     "metadata": {},
     "output_type": "execute_result"
    }
   ],
   "source": [
    "np.max(a)"
   ]
  },
  {
   "cell_type": "code",
   "execution_count": 43,
   "id": "1a8bec2b-a57d-4529-92e9-17bae2936f7f",
   "metadata": {},
   "outputs": [
    {
     "data": {
      "text/plain": [
       "np.int64(7)"
      ]
     },
     "execution_count": 43,
     "metadata": {},
     "output_type": "execute_result"
    }
   ],
   "source": [
    "np.argmax(a) #Index number/postion of maximum value"
   ]
  },
  {
   "cell_type": "code",
   "execution_count": 44,
   "id": "c19e0e72-f085-4b62-a0eb-4c9def76e682",
   "metadata": {},
   "outputs": [
    {
     "data": {
      "text/plain": [
       "array([65, 39, 17, 13, 46, 78, 45, 80, 21, 56], dtype=int32)"
      ]
     },
     "execution_count": 44,
     "metadata": {},
     "output_type": "execute_result"
    }
   ],
   "source": [
    "a"
   ]
  },
  {
   "cell_type": "code",
   "execution_count": 45,
   "id": "1575a0fd-0e7a-479e-9071-2286f7513537",
   "metadata": {},
   "outputs": [
    {
     "data": {
      "text/plain": [
       "np.int32(13)"
      ]
     },
     "execution_count": 45,
     "metadata": {},
     "output_type": "execute_result"
    }
   ],
   "source": [
    "np.min(a)"
   ]
  },
  {
   "cell_type": "code",
   "execution_count": 46,
   "id": "7c097698-7cb9-422f-a3b7-7422e60df830",
   "metadata": {},
   "outputs": [
    {
     "data": {
      "text/plain": [
       "np.int64(3)"
      ]
     },
     "execution_count": 46,
     "metadata": {},
     "output_type": "execute_result"
    }
   ],
   "source": [
    "np.argmin(a)"
   ]
  },
  {
   "cell_type": "code",
   "execution_count": 48,
   "id": "e9958440-154c-4120-8317-c3122ac14df7",
   "metadata": {},
   "outputs": [
    {
     "data": {
      "text/plain": [
       "array([65, 39, 17, 13, 46, 78, 45, 80, 21, 56], dtype=int32)"
      ]
     },
     "execution_count": 48,
     "metadata": {},
     "output_type": "execute_result"
    }
   ],
   "source": [
    "a"
   ]
  },
  {
   "cell_type": "code",
   "execution_count": 47,
   "id": "2a649ce6-ca1c-4964-bcdc-10a71640c86c",
   "metadata": {},
   "outputs": [
    {
     "data": {
      "text/plain": [
       "array([13, 17, 21, 39, 45, 46, 56, 65, 78, 80], dtype=int32)"
      ]
     },
     "execution_count": 47,
     "metadata": {},
     "output_type": "execute_result"
    }
   ],
   "source": [
    "np.sort(a)"
   ]
  },
  {
   "cell_type": "code",
   "execution_count": 49,
   "id": "f11ec15a-0975-46b7-8c2d-7176e0f07ac2",
   "metadata": {},
   "outputs": [
    {
     "data": {
      "text/plain": [
       "array([3, 2, 8, 1, 6, 4, 9, 0, 5, 7])"
      ]
     },
     "execution_count": 49,
     "metadata": {},
     "output_type": "execute_result"
    }
   ],
   "source": [
    "np.argsort(a)"
   ]
  },
  {
   "cell_type": "markdown",
   "id": "c1b9c66b-f1ad-462c-8925-2a1950b0b43f",
   "metadata": {},
   "source": [
    "## Stacking and Splitting"
   ]
  },
  {
   "cell_type": "code",
   "execution_count": 56,
   "id": "6030be85-5519-4e4b-89a5-047bd92513c0",
   "metadata": {},
   "outputs": [
    {
     "data": {
      "text/plain": [
       "matrix([[1, 4],\n",
       "        [7, 8]])"
      ]
     },
     "execution_count": 56,
     "metadata": {},
     "output_type": "execute_result"
    }
   ],
   "source": [
    "arr1 = np.matrix([[1,4],[7,8]])\n",
    "arr1"
   ]
  },
  {
   "cell_type": "code",
   "execution_count": 57,
   "id": "1eb45b8c-b4f4-46ad-a353-541b5eb6b624",
   "metadata": {},
   "outputs": [
    {
     "data": {
      "text/plain": [
       "matrix([[10, 40],\n",
       "        [70, 80]])"
      ]
     },
     "execution_count": 57,
     "metadata": {},
     "output_type": "execute_result"
    }
   ],
   "source": [
    "arr2 = np.matrix([[10,40],[70,80]])\n",
    "arr2"
   ]
  },
  {
   "cell_type": "code",
   "execution_count": 59,
   "id": "96e5f41f-cb8e-42f6-9c1d-5ebe981eef81",
   "metadata": {},
   "outputs": [
    {
     "data": {
      "text/plain": [
       "matrix([[ 1,  4],\n",
       "        [ 7,  8],\n",
       "        [10, 40],\n",
       "        [70, 80]])"
      ]
     },
     "execution_count": 59,
     "metadata": {},
     "output_type": "execute_result"
    }
   ],
   "source": [
    "np.concatenate((arr1,arr2),axis = 0) #Row wise concatention/joining"
   ]
  },
  {
   "cell_type": "code",
   "execution_count": 60,
   "id": "4b8ae0e9-87fb-483b-bd77-ac0d643c7a3e",
   "metadata": {},
   "outputs": [
    {
     "data": {
      "text/plain": [
       "matrix([[ 1,  4, 10, 40],\n",
       "        [ 7,  8, 70, 80]])"
      ]
     },
     "execution_count": 60,
     "metadata": {},
     "output_type": "execute_result"
    }
   ],
   "source": [
    "np.concatenate((arr1,arr2),axis = 1) #Row wise concatention/joining"
   ]
  },
  {
   "cell_type": "code",
   "execution_count": 63,
   "id": "a9989d09-cd62-4613-8866-e5102194283b",
   "metadata": {},
   "outputs": [
    {
     "data": {
      "text/plain": [
       "matrix([[ 1,  4, 10, 40],\n",
       "        [ 7,  8, 70, 80]])"
      ]
     },
     "execution_count": 63,
     "metadata": {},
     "output_type": "execute_result"
    }
   ],
   "source": [
    "np.hstack((arr1,arr2))  #Horizantally stacking"
   ]
  },
  {
   "cell_type": "code",
   "execution_count": 66,
   "id": "e63006e9-df96-463c-8a1b-dc29e727aed4",
   "metadata": {},
   "outputs": [
    {
     "data": {
      "text/plain": [
       "matrix([[ 1,  4],\n",
       "        [ 7,  8],\n",
       "        [10, 40],\n",
       "        [70, 80]])"
      ]
     },
     "execution_count": 66,
     "metadata": {},
     "output_type": "execute_result"
    }
   ],
   "source": [
    "np.vstack((arr1,arr2))  #Vertically Stacking"
   ]
  },
  {
   "cell_type": "code",
   "execution_count": 69,
   "id": "bc15b93a-2fb1-4f3e-9de0-ff7aa8d0ee09",
   "metadata": {},
   "outputs": [],
   "source": [
    "x = np.array([2,3,4])"
   ]
  },
  {
   "cell_type": "code",
   "execution_count": 70,
   "id": "451b40a9-f03d-4c52-aafc-2c557dc10f9d",
   "metadata": {},
   "outputs": [],
   "source": [
    "y = np.array([40,50,60])"
   ]
  },
  {
   "cell_type": "code",
   "execution_count": 71,
   "id": "51ece147-ce58-4cdb-abca-98e807e546e2",
   "metadata": {},
   "outputs": [
    {
     "data": {
      "text/plain": [
       "array([[[ 2, 40],\n",
       "        [ 3, 50],\n",
       "        [ 4, 60]]])"
      ]
     },
     "execution_count": 71,
     "metadata": {},
     "output_type": "execute_result"
    }
   ],
   "source": [
    "np.dstack((x,y))"
   ]
  },
  {
   "cell_type": "code",
   "execution_count": 86,
   "id": "bc1ce422-2de5-4c26-b05d-fae50b5d70cc",
   "metadata": {},
   "outputs": [],
   "source": [
    "a = np.arange(1,9).reshape(2,4)"
   ]
  },
  {
   "cell_type": "code",
   "execution_count": 87,
   "id": "28eb9460-40e5-4761-8bd2-a7924b1e37e6",
   "metadata": {},
   "outputs": [
    {
     "data": {
      "text/plain": [
       "array([[1, 2, 3, 4],\n",
       "       [5, 6, 7, 8]])"
      ]
     },
     "execution_count": 87,
     "metadata": {},
     "output_type": "execute_result"
    }
   ],
   "source": [
    "a"
   ]
  },
  {
   "cell_type": "code",
   "execution_count": 88,
   "id": "5a230b7a-08b9-4ee7-baf8-587c49a49635",
   "metadata": {},
   "outputs": [
    {
     "data": {
      "text/plain": [
       "[array([[1],\n",
       "        [5]]),\n",
       " array([[2],\n",
       "        [6]]),\n",
       " array([[3],\n",
       "        [7]]),\n",
       " array([[4],\n",
       "        [8]])]"
      ]
     },
     "execution_count": 88,
     "metadata": {},
     "output_type": "execute_result"
    }
   ],
   "source": [
    "np.hsplit(a,4)"
   ]
  },
  {
   "cell_type": "code",
   "execution_count": 89,
   "id": "24dd3028-e24b-4007-81d0-099d0fd00ca2",
   "metadata": {},
   "outputs": [
    {
     "data": {
      "text/plain": [
       "[array([[1, 2, 3, 4]]), array([[5, 6, 7, 8]])]"
      ]
     },
     "execution_count": 89,
     "metadata": {},
     "output_type": "execute_result"
    }
   ],
   "source": [
    "np.vsplit(a,2)"
   ]
  },
  {
   "cell_type": "code",
   "execution_count": 94,
   "id": "f0865265-47af-466b-969f-b35eaa1e8a6f",
   "metadata": {},
   "outputs": [],
   "source": [
    "a = np.arange(1,9).reshape(2,4)"
   ]
  },
  {
   "cell_type": "code",
   "execution_count": 95,
   "id": "14dd1b43-3da2-4832-8994-5f6352a62989",
   "metadata": {},
   "outputs": [
    {
     "data": {
      "text/plain": [
       "array([[1, 2, 3, 4],\n",
       "       [5, 6, 7, 8]])"
      ]
     },
     "execution_count": 95,
     "metadata": {},
     "output_type": "execute_result"
    }
   ],
   "source": [
    "a"
   ]
  },
  {
   "cell_type": "code",
   "execution_count": 96,
   "id": "7b17d0f9-924b-48f0-840e-639e983f2f30",
   "metadata": {},
   "outputs": [
    {
     "data": {
      "text/plain": [
       "array([[1, 5],\n",
       "       [2, 6],\n",
       "       [3, 7],\n",
       "       [4, 8]])"
      ]
     },
     "execution_count": 96,
     "metadata": {},
     "output_type": "execute_result"
    }
   ],
   "source": [
    "a.T"
   ]
  },
  {
   "cell_type": "code",
   "execution_count": 97,
   "id": "d4d0f1bd-b942-424f-ae3a-2913dd5fb633",
   "metadata": {},
   "outputs": [
    {
     "data": {
      "text/plain": [
       "array([[1, 5],\n",
       "       [2, 6],\n",
       "       [3, 7],\n",
       "       [4, 8]])"
      ]
     },
     "execution_count": 97,
     "metadata": {},
     "output_type": "execute_result"
    }
   ],
   "source": [
    "np.transpose(a)"
   ]
  },
  {
   "cell_type": "markdown",
   "id": "57328db6-d1ea-43a7-bf34-8fd16f53b9a9",
   "metadata": {},
   "source": [
    "###### Reshape vs Resize"
   ]
  },
  {
   "cell_type": "code",
   "execution_count": 101,
   "id": "ef3091e3-fc09-46c5-b31c-cdb42cfae416",
   "metadata": {},
   "outputs": [],
   "source": [
    "a = np.array([[2,4,5,7],[6,7,8,7],[6,6,6,6],[7,7,7,7]])"
   ]
  },
  {
   "cell_type": "code",
   "execution_count": 102,
   "id": "be171bb6-e6d2-473e-9b30-ea4c55b8b9cc",
   "metadata": {},
   "outputs": [
    {
     "data": {
      "text/plain": [
       "(4, 4)"
      ]
     },
     "execution_count": 102,
     "metadata": {},
     "output_type": "execute_result"
    }
   ],
   "source": [
    "a.shape"
   ]
  },
  {
   "cell_type": "code",
   "execution_count": 105,
   "id": "db681990-b73c-4a26-9fbc-a1ae21628467",
   "metadata": {},
   "outputs": [
    {
     "data": {
      "text/plain": [
       "array([[[2, 4],\n",
       "        [5, 7],\n",
       "        [6, 7],\n",
       "        [8, 7]],\n",
       "\n",
       "       [[6, 6],\n",
       "        [6, 6],\n",
       "        [7, 7],\n",
       "        [7, 7]]])"
      ]
     },
     "execution_count": 105,
     "metadata": {},
     "output_type": "execute_result"
    }
   ],
   "source": [
    "a.reshape(2,4,2)"
   ]
  },
  {
   "cell_type": "code",
   "execution_count": 108,
   "id": "3b72b89f-faae-41c3-b337-a3ce49c9d5a5",
   "metadata": {},
   "outputs": [
    {
     "data": {
      "text/plain": [
       "(2, 2)"
      ]
     },
     "execution_count": 108,
     "metadata": {},
     "output_type": "execute_result"
    }
   ],
   "source": [
    "x = np.array([[1,2],[3,4]])\n",
    "x.shape"
   ]
  },
  {
   "cell_type": "code",
   "execution_count": 116,
   "id": "c088c640-de7b-4c60-a19c-50f6888bb959",
   "metadata": {},
   "outputs": [
    {
     "data": {
      "text/plain": [
       "array([[[1, 2],\n",
       "        [3, 4],\n",
       "        [1, 2],\n",
       "        [3, 4]],\n",
       "\n",
       "       [[1, 2],\n",
       "        [3, 4],\n",
       "        [1, 2],\n",
       "        [3, 4]]])"
      ]
     },
     "execution_count": 116,
     "metadata": {},
     "output_type": "execute_result"
    }
   ],
   "source": [
    "np.resize(x,(2,4,2))"
   ]
  },
  {
   "cell_type": "code",
   "execution_count": 120,
   "id": "d0a516c8-6890-442a-b677-3096cbe35924",
   "metadata": {},
   "outputs": [
    {
     "data": {
      "text/plain": [
       "array([[[1],\n",
       "        [2]],\n",
       "\n",
       "       [[3],\n",
       "        [4]]])"
      ]
     },
     "execution_count": 120,
     "metadata": {},
     "output_type": "execute_result"
    }
   ],
   "source": [
    "x.reshape(2,2,1)"
   ]
  },
  {
   "cell_type": "code",
   "execution_count": 121,
   "id": "b05ca81f-e681-4f8a-920c-3973dbacb1f8",
   "metadata": {},
   "outputs": [
    {
     "data": {
      "text/plain": [
       "array([[[1, 2]],\n",
       "\n",
       "       [[3, 4]]])"
      ]
     },
     "execution_count": 121,
     "metadata": {},
     "output_type": "execute_result"
    }
   ],
   "source": [
    "x.reshape(2,1,2)"
   ]
  },
  {
   "cell_type": "code",
   "execution_count": 126,
   "id": "4347c21c-5d32-4026-b0be-086767679631",
   "metadata": {},
   "outputs": [
    {
     "ename": "ValueError",
     "evalue": "cannot reshape array of size 4 into shape (1,2,2,2)",
     "output_type": "error",
     "traceback": [
      "\u001b[1;31m---------------------------------------------------------------------------\u001b[0m",
      "\u001b[1;31mValueError\u001b[0m                                Traceback (most recent call last)",
      "Cell \u001b[1;32mIn[126], line 1\u001b[0m\n\u001b[1;32m----> 1\u001b[0m x\u001b[38;5;241m.\u001b[39mreshape(\u001b[38;5;241m1\u001b[39m,\u001b[38;5;241m2\u001b[39m,\u001b[38;5;241m2\u001b[39m,\u001b[38;5;241m2\u001b[39m)\n",
      "\u001b[1;31mValueError\u001b[0m: cannot reshape array of size 4 into shape (1,2,2,2)"
     ]
    }
   ],
   "source": [
    "x.reshape(1,2,2,2)"
   ]
  },
  {
   "cell_type": "code",
   "execution_count": 128,
   "id": "20c42be7-6836-41be-a7c4-b23ac74e1c03",
   "metadata": {},
   "outputs": [
    {
     "data": {
      "text/plain": [
       "array([[1, 2]])"
      ]
     },
     "execution_count": 128,
     "metadata": {},
     "output_type": "execute_result"
    }
   ],
   "source": [
    "np.resize(x,(1,2))"
   ]
  },
  {
   "cell_type": "code",
   "execution_count": 130,
   "id": "c53789c0-06d1-404a-8a91-f4afdf03080a",
   "metadata": {},
   "outputs": [
    {
     "data": {
      "text/plain": [
       "numpy.ndarray"
      ]
     },
     "execution_count": 130,
     "metadata": {},
     "output_type": "execute_result"
    }
   ],
   "source": [
    "type(x)"
   ]
  },
  {
   "cell_type": "markdown",
   "id": "d7b48f38-0cee-4d91-b010-137b3e28505d",
   "metadata": {},
   "source": [
    "## Indexing and Slicing"
   ]
  },
  {
   "cell_type": "code",
   "execution_count": 132,
   "id": "517a5726-d482-4446-8834-dd9e38c82c5c",
   "metadata": {},
   "outputs": [],
   "source": [
    "a = np.arange(1,9)"
   ]
  },
  {
   "cell_type": "code",
   "execution_count": 133,
   "id": "3c23c054-3d63-4d6e-8203-b24955c3eb9d",
   "metadata": {},
   "outputs": [
    {
     "data": {
      "text/plain": [
       "array([1, 2, 3, 4, 5, 6, 7, 8])"
      ]
     },
     "execution_count": 133,
     "metadata": {},
     "output_type": "execute_result"
    }
   ],
   "source": [
    "a"
   ]
  },
  {
   "cell_type": "code",
   "execution_count": 134,
   "id": "8180d036-5dc7-4505-8639-a26b96e7fc04",
   "metadata": {},
   "outputs": [
    {
     "data": {
      "text/plain": [
       "np.int64(4)"
      ]
     },
     "execution_count": 134,
     "metadata": {},
     "output_type": "execute_result"
    }
   ],
   "source": [
    "a[3]"
   ]
  },
  {
   "cell_type": "code",
   "execution_count": 136,
   "id": "e725dfdf-13ff-4e2a-b155-3742b20d5cf9",
   "metadata": {},
   "outputs": [],
   "source": [
    "x = a.reshape(4,2)"
   ]
  },
  {
   "cell_type": "code",
   "execution_count": 137,
   "id": "efccb3b1-8b84-4560-b77c-d490277ba812",
   "metadata": {},
   "outputs": [
    {
     "data": {
      "text/plain": [
       "array([[1, 2],\n",
       "       [3, 4],\n",
       "       [5, 6],\n",
       "       [7, 8]])"
      ]
     },
     "execution_count": 137,
     "metadata": {},
     "output_type": "execute_result"
    }
   ],
   "source": [
    "x"
   ]
  },
  {
   "cell_type": "markdown",
   "id": "30f7b653-22f4-4116-9814-42fe07c76a18",
   "metadata": {},
   "source": [
    "x[row,columns]"
   ]
  },
  {
   "cell_type": "code",
   "execution_count": 140,
   "id": "fd79d887-de9c-4ee6-ac98-47459d14d63b",
   "metadata": {},
   "outputs": [
    {
     "data": {
      "text/plain": [
       "array([[3, 4],\n",
       "       [5, 6]])"
      ]
     },
     "execution_count": 140,
     "metadata": {},
     "output_type": "execute_result"
    }
   ],
   "source": [
    "x[1:3,:]"
   ]
  },
  {
   "cell_type": "code",
   "execution_count": 141,
   "id": "57e1ecbb-0260-4f37-9b4b-8ace335577bc",
   "metadata": {},
   "outputs": [
    {
     "data": {
      "text/plain": [
       "array([7, 8])"
      ]
     },
     "execution_count": 141,
     "metadata": {},
     "output_type": "execute_result"
    }
   ],
   "source": [
    "x[3,:]"
   ]
  },
  {
   "cell_type": "code",
   "execution_count": 143,
   "id": "6c971d95-b28e-4ab4-9ff2-e5587c8dd9e4",
   "metadata": {},
   "outputs": [
    {
     "data": {
      "text/plain": [
       "array([5, 7])"
      ]
     },
     "execution_count": 143,
     "metadata": {},
     "output_type": "execute_result"
    }
   ],
   "source": [
    "x[2:,0]"
   ]
  },
  {
   "cell_type": "code",
   "execution_count": 144,
   "id": "6ef29255-997e-4ce6-88a3-64ab2c8f0381",
   "metadata": {},
   "outputs": [
    {
     "data": {
      "text/plain": [
       "array([[1, 2],\n",
       "       [3, 4],\n",
       "       [5, 6],\n",
       "       [7, 8]])"
      ]
     },
     "execution_count": 144,
     "metadata": {},
     "output_type": "execute_result"
    }
   ],
   "source": [
    "x"
   ]
  },
  {
   "cell_type": "code",
   "execution_count": 145,
   "id": "2ccf9326-eeae-45d1-b64a-66add142759a",
   "metadata": {},
   "outputs": [
    {
     "data": {
      "text/plain": [
       "array([2, 4])"
      ]
     },
     "execution_count": 145,
     "metadata": {},
     "output_type": "execute_result"
    }
   ],
   "source": [
    "x[0:2,1]"
   ]
  },
  {
   "cell_type": "code",
   "execution_count": 146,
   "id": "ef32b7ec-15bf-4c87-a771-cc63b2e439c9",
   "metadata": {},
   "outputs": [
    {
     "data": {
      "text/plain": [
       "array([[1, 2],\n",
       "       [3, 4]])"
      ]
     },
     "execution_count": 146,
     "metadata": {},
     "output_type": "execute_result"
    }
   ],
   "source": [
    "x[0:2,:]"
   ]
  },
  {
   "cell_type": "code",
   "execution_count": 148,
   "id": "ce13f4b5-d786-4f50-989f-36b2879a12d9",
   "metadata": {},
   "outputs": [
    {
     "data": {
      "text/plain": [
       "array([1, 3, 5, 7])"
      ]
     },
     "execution_count": 148,
     "metadata": {},
     "output_type": "execute_result"
    }
   ],
   "source": [
    "x[:,0]"
   ]
  },
  {
   "cell_type": "code",
   "execution_count": 163,
   "id": "aa90d60a-79dd-4e2b-905d-deec702d71d2",
   "metadata": {},
   "outputs": [],
   "source": [
    "a = np.arange(1,17).reshape(1,2,4,2)"
   ]
  },
  {
   "cell_type": "code",
   "execution_count": 164,
   "id": "bebbf32b-8808-435a-b6b0-52f7c9864223",
   "metadata": {},
   "outputs": [
    {
     "data": {
      "text/plain": [
       "array([[[[ 1,  2],\n",
       "         [ 3,  4],\n",
       "         [ 5,  6],\n",
       "         [ 7,  8]],\n",
       "\n",
       "        [[ 9, 10],\n",
       "         [11, 12],\n",
       "         [13, 14],\n",
       "         [15, 16]]]])"
      ]
     },
     "execution_count": 164,
     "metadata": {},
     "output_type": "execute_result"
    }
   ],
   "source": [
    "a"
   ]
  },
  {
   "cell_type": "code",
   "execution_count": 168,
   "id": "5266a0f1-f17a-42fb-a045-f1be274f7a73",
   "metadata": {},
   "outputs": [
    {
     "data": {
      "text/plain": [
       "array([[ 9, 10],\n",
       "       [11, 12]])"
      ]
     },
     "execution_count": 168,
     "metadata": {},
     "output_type": "execute_result"
    }
   ],
   "source": [
    "a[0][1][0:2,:]"
   ]
  },
  {
   "cell_type": "markdown",
   "id": "43d4faa2-651b-426e-bd66-4645374a7035",
   "metadata": {},
   "source": [
    "### Distributions/Random data"
   ]
  },
  {
   "cell_type": "code",
   "execution_count": 1,
   "id": "13dec129-a188-4f77-88ff-5f7cad25cd8b",
   "metadata": {},
   "outputs": [],
   "source": [
    "import numpy as np"
   ]
  },
  {
   "cell_type": "code",
   "execution_count": 8,
   "id": "8fbe77b4-a51d-44a2-ac3c-cb92be311982",
   "metadata": {},
   "outputs": [],
   "source": [
    "norm = np.random.normal(loc=4, scale=1.5, size=100)\n",
    "pareto = np.random.pareto(a = 2, size=1000)\n",
    "binom = np.random.binomial(n = 10, p = 0.2, size=1000)\n",
    "log_normal = np.random.lognormal(mean=3, sigma=2, size=100)"
   ]
  },
  {
   "cell_type": "code",
   "execution_count": null,
   "id": "256822d3-9a75-41bf-9a42-7d3af616000f",
   "metadata": {},
   "outputs": [],
   "source": [
    "!pip install matplotlib"
   ]
  },
  {
   "cell_type": "code",
   "execution_count": null,
   "id": "c0130758-d720-4338-8fde-6a1bc6ad191a",
   "metadata": {},
   "outputs": [],
   "source": [
    "!pip install pandas"
   ]
  },
  {
   "cell_type": "code",
   "execution_count": 9,
   "id": "dfbea16a-e643-4453-85db-b0edececf386",
   "metadata": {},
   "outputs": [],
   "source": [
    "import pandas as pd"
   ]
  },
  {
   "cell_type": "code",
   "execution_count": 10,
   "id": "d9cb9fc3-2788-4dd3-a7c3-defb4bbc125d",
   "metadata": {},
   "outputs": [
    {
     "data": {
      "text/plain": [
       "<Axes: ylabel='Density'>"
      ]
     },
     "execution_count": 10,
     "metadata": {},
     "output_type": "execute_result"
    },
    {
     "data": {
      "image/png": "[encoded data removed]",
      "text/plain": [
       "<Figure size 640x480 with 1 Axes>"
      ]
     },
     "metadata": {},
     "output_type": "display_data"
    }
   ],
   "source": [
    "pd.Series(norm).plot(kind=  'kde')"
   ]
  },
  {
   "cell_type": "code",
   "execution_count": 11,
   "id": "547ed13e-195b-43d5-975c-8530f0ec9008",
   "metadata": {},
   "outputs": [
    {
     "data": {
      "text/plain": [
       "<Axes: ylabel='Density'>"
      ]
     },
     "execution_count": 11,
     "metadata": {},
     "output_type": "execute_result"
    },
    {
     "data": {
      "image/png": "[encoded data removed]",
      "text/plain": [
       "<Figure size 640x480 with 1 Axes>"
      ]
     },
     "metadata": {},
     "output_type": "display_data"
    }
   ],
   "source": [
    "pd.Series(pareto).plot(kind=  'kde')"
   ]
  },
  {
   "cell_type": "code",
   "execution_count": null,
   "id": "c176979b-5ad0-4b3e-b863-f51fa234fa5b",
   "metadata": {},
   "outputs": [],
   "source": []
  }
 ],
 "metadata": {
  "kernelspec": {
   "display_name": "Python 3 (ipykernel)",
   "language": "python",
   "name": "python3"
  },
  "language_info": {
   "codemirror_mode": {
    "name": "ipython",
    "version": 3
   },
   "file_extension": ".py",
   "mimetype": "text/x-python",
   "name": "python",
   "nbconvert_exporter": "python",
   "pygments_lexer": "ipython3",
   "version": "3.12.4"
  }
 },
 "nbformat": 4,
 "nbformat_minor": 5
}
