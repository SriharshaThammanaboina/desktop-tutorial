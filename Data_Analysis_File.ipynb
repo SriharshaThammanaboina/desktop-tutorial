{
 "cells": [
  {
   "cell_type": "code",
   "execution_count": 31,
   "id": "3b5cd543-6216-4db1-9c1f-a1277daac9f4",
   "metadata": {},
   "outputs": [],
   "source": [
    "import pandas as pd\n",
    "import numpy as np\n",
    "import matplotlib.pyplot as plt\n",
    "import seaborn as sns\n",
    "import warnings\n",
    "warnings.filterwarnings('ignore')"
   ]
  },
  {
   "cell_type": "code",
   "execution_count": 32,
   "id": "28f82234-dc61-46f4-a828-d9b411684b4d",
   "metadata": {},
   "outputs": [],
   "source": [
    "df = pd.read_csv(r\"C:\\Users\\K SANJANA\\Desktop\\DA Batch 332\\projects\\Project_Final\\Companies_Data.csv\")"
   ]
  },
  {
   "cell_type": "code",
   "execution_count": 33,
   "id": "8d4aea7c-e766-4f6e-9ad2-6fa80c012b21",
   "metadata": {},
   "outputs": [
    {
     "data": {
      "text/html": [
       "<div>\n",
       "<style scoped>\n",
       "    .dataframe tbody tr th:only-of-type {\n",
       "        vertical-align: middle;\n",
       "    }\n",
       "\n",
       "    .dataframe tbody tr th {\n",
       "        vertical-align: top;\n",
       "    }\n",
       "\n",
       "    .dataframe thead th {\n",
       "        text-align: right;\n",
       "    }\n",
       "</style>\n",
       "<table border=\"1\" class=\"dataframe\">\n",
       "  <thead>\n",
       "    <tr style=\"text-align: right;\">\n",
       "      <th></th>\n",
       "      <th>Company</th>\n",
       "      <th>Rating</th>\n",
       "      <th>Field</th>\n",
       "      <th>Location</th>\n",
       "      <th>Reviews</th>\n",
       "      <th>Salaries</th>\n",
       "      <th>No_of_Interviews</th>\n",
       "      <th>No_of_jobs</th>\n",
       "      <th>No_of_Benefits</th>\n",
       "    </tr>\n",
       "  </thead>\n",
       "  <tbody>\n",
       "    <tr>\n",
       "      <th>0</th>\n",
       "      <td>HDB Financial Services</td>\n",
       "      <td>4.0</td>\n",
       "      <td>NBFC</td>\n",
       "      <td>Mumbai</td>\n",
       "      <td>19.7k</td>\n",
       "      <td>49.9k</td>\n",
       "      <td>772</td>\n",
       "      <td>120</td>\n",
       "      <td>1.6k</td>\n",
       "    </tr>\n",
       "    <tr>\n",
       "      <th>1</th>\n",
       "      <td>Larsen &amp; Toubro Limited</td>\n",
       "      <td>4.0</td>\n",
       "      <td>Engineering &amp; Construction</td>\n",
       "      <td>Chennai</td>\n",
       "      <td>17.9k</td>\n",
       "      <td>69.3k</td>\n",
       "      <td>1.4k</td>\n",
       "      <td>155</td>\n",
       "      <td>2.9k</td>\n",
       "    </tr>\n",
       "    <tr>\n",
       "      <th>2</th>\n",
       "      <td>Deloitte</td>\n",
       "      <td>3.8</td>\n",
       "      <td>Management Consulting</td>\n",
       "      <td>Hyderabad / Secunderabad</td>\n",
       "      <td>17k</td>\n",
       "      <td>1.8L</td>\n",
       "      <td>2.8k</td>\n",
       "      <td>585</td>\n",
       "      <td>2.6k</td>\n",
       "    </tr>\n",
       "    <tr>\n",
       "      <th>3</th>\n",
       "      <td>BYJUS</td>\n",
       "      <td>3.1</td>\n",
       "      <td>EdTech</td>\n",
       "      <td>Bangalore / Bengaluru</td>\n",
       "      <td>16k</td>\n",
       "      <td>59k</td>\n",
       "      <td>2.2k</td>\n",
       "      <td>1</td>\n",
       "      <td>1.9k</td>\n",
       "    </tr>\n",
       "    <tr>\n",
       "      <th>4</th>\n",
       "      <td>Kotak Mahindra Bank</td>\n",
       "      <td>3.8</td>\n",
       "      <td>Banking</td>\n",
       "      <td>Mumbai</td>\n",
       "      <td>15.9k</td>\n",
       "      <td>81k</td>\n",
       "      <td>1k</td>\n",
       "      <td>14</td>\n",
       "      <td>1.3k</td>\n",
       "    </tr>\n",
       "    <tr>\n",
       "      <th>...</th>\n",
       "      <td>...</td>\n",
       "      <td>...</td>\n",
       "      <td>...</td>\n",
       "      <td>...</td>\n",
       "      <td>...</td>\n",
       "      <td>...</td>\n",
       "      <td>...</td>\n",
       "      <td>...</td>\n",
       "      <td>...</td>\n",
       "    </tr>\n",
       "    <tr>\n",
       "      <th>1155</th>\n",
       "      <td>Shilpa Medicare</td>\n",
       "      <td>4.2</td>\n",
       "      <td>Automobile</td>\n",
       "      <td>Hyderabad / Secunderabad</td>\n",
       "      <td>679</td>\n",
       "      <td>4k</td>\n",
       "      <td>27</td>\n",
       "      <td>1</td>\n",
       "      <td>85</td>\n",
       "    </tr>\n",
       "    <tr>\n",
       "      <th>1156</th>\n",
       "      <td>Škoda Auto Volkswagen</td>\n",
       "      <td>3.4</td>\n",
       "      <td>Pharma</td>\n",
       "      <td>Pune</td>\n",
       "      <td>679</td>\n",
       "      <td>3.7k</td>\n",
       "      <td>51</td>\n",
       "      <td>7</td>\n",
       "      <td>57</td>\n",
       "    </tr>\n",
       "    <tr>\n",
       "      <th>1157</th>\n",
       "      <td>Salcomp Manufacturing</td>\n",
       "      <td>4.0</td>\n",
       "      <td>IT Services &amp; Consulting</td>\n",
       "      <td>Chennai</td>\n",
       "      <td>681</td>\n",
       "      <td>5.2k</td>\n",
       "      <td>56</td>\n",
       "      <td>290</td>\n",
       "      <td>66</td>\n",
       "    </tr>\n",
       "    <tr>\n",
       "      <th>1158</th>\n",
       "      <td>NTT</td>\n",
       "      <td>4.1</td>\n",
       "      <td>Electronics Manufacturing</td>\n",
       "      <td>Mumbai</td>\n",
       "      <td>679</td>\n",
       "      <td>3.7k</td>\n",
       "      <td>59</td>\n",
       "      <td>1</td>\n",
       "      <td>78</td>\n",
       "    </tr>\n",
       "    <tr>\n",
       "      <th>1159</th>\n",
       "      <td>Royal Sundaram General Insurance</td>\n",
       "      <td>4.0</td>\n",
       "      <td>Insurance</td>\n",
       "      <td>Chennai</td>\n",
       "      <td>679</td>\n",
       "      <td>2.6k</td>\n",
       "      <td>20</td>\n",
       "      <td>--</td>\n",
       "      <td>65</td>\n",
       "    </tr>\n",
       "  </tbody>\n",
       "</table>\n",
       "<p>1160 rows × 9 columns</p>\n",
       "</div>"
      ],
      "text/plain": [
       "                               Company  Rating                       Field  \\\n",
       "0               HDB Financial Services     4.0                        NBFC   \n",
       "1              Larsen & Toubro Limited     4.0  Engineering & Construction   \n",
       "2                             Deloitte     3.8       Management Consulting   \n",
       "3                                BYJUS     3.1                      EdTech   \n",
       "4                  Kotak Mahindra Bank     3.8                     Banking   \n",
       "...                                ...     ...                         ...   \n",
       "1155                   Shilpa Medicare     4.2                  Automobile   \n",
       "1156             Škoda Auto Volkswagen     3.4                      Pharma   \n",
       "1157             Salcomp Manufacturing     4.0    IT Services & Consulting   \n",
       "1158                               NTT     4.1   Electronics Manufacturing   \n",
       "1159  Royal Sundaram General Insurance     4.0                   Insurance   \n",
       "\n",
       "                       Location Reviews Salaries No_of_Interviews No_of_jobs  \\\n",
       "0                       Mumbai    19.7k    49.9k              772        120   \n",
       "1                      Chennai    17.9k    69.3k             1.4k        155   \n",
       "2     Hyderabad / Secunderabad      17k     1.8L             2.8k        585   \n",
       "3        Bangalore / Bengaluru      16k      59k             2.2k          1   \n",
       "4                       Mumbai    15.9k      81k               1k         14   \n",
       "...                         ...     ...      ...              ...        ...   \n",
       "1155  Hyderabad / Secunderabad      679       4k               27          1   \n",
       "1156                      Pune      679     3.7k               51          7   \n",
       "1157                   Chennai      681     5.2k               56        290   \n",
       "1158                    Mumbai      679     3.7k               59          1   \n",
       "1159                   Chennai      679     2.6k               20         --   \n",
       "\n",
       "     No_of_Benefits  \n",
       "0              1.6k  \n",
       "1              2.9k  \n",
       "2              2.6k  \n",
       "3              1.9k  \n",
       "4              1.3k  \n",
       "...             ...  \n",
       "1155             85  \n",
       "1156             57  \n",
       "1157             66  \n",
       "1158             78  \n",
       "1159             65  \n",
       "\n",
       "[1160 rows x 9 columns]"
      ]
     },
     "execution_count": 33,
     "metadata": {},
     "output_type": "execute_result"
    }
   ],
   "source": [
    "df"
   ]
  },
  {
   "cell_type": "markdown",
   "id": "d1f0fa98-33ab-4595-adc4-c16facd3ed1e",
   "metadata": {},
   "source": [
    "### Data Description"
   ]
  },
  {
   "cell_type": "markdown",
   "id": "145c487d-04d9-4192-bc87-617c2db28234",
   "metadata": {},
   "source": [
    "**Company**: Name of the company  \n",
    "**Rating**: Overall rating of the company  \n",
    "**Field**: Industry or sector the company belongs to  \n",
    "**Location**: Location of the company  \n",
    "**Reviews**: Number of reviews the company has received  \n",
    "**Salaries**: Number of salaries recorded  \n",
    "**No_of_Interviews**: Number of interviews recorded  \n",
    "**No_of_jobs**: Number of job openings available  \n",
    "**No_of_Benefits**: Number of benefits offered  "
   ]
  },
  {
   "cell_type": "code",
   "execution_count": 34,
   "id": "b1724df7-98fe-4eb3-9371-4bb1aaae793f",
   "metadata": {},
   "outputs": [
    {
     "data": {
      "text/plain": [
       "(1160, 9)"
      ]
     },
     "execution_count": 34,
     "metadata": {},
     "output_type": "execute_result"
    }
   ],
   "source": [
    "df.shape"
   ]
  },
  {
   "cell_type": "code",
   "execution_count": 35,
   "id": "10a39b2a-1fe6-49b7-86cb-3cd3c7fb3f05",
   "metadata": {},
   "outputs": [
    {
     "data": {
      "text/html": [
       "<div>\n",
       "<style scoped>\n",
       "    .dataframe tbody tr th:only-of-type {\n",
       "        vertical-align: middle;\n",
       "    }\n",
       "\n",
       "    .dataframe tbody tr th {\n",
       "        vertical-align: top;\n",
       "    }\n",
       "\n",
       "    .dataframe thead th {\n",
       "        text-align: right;\n",
       "    }\n",
       "</style>\n",
       "<table border=\"1\" class=\"dataframe\">\n",
       "  <thead>\n",
       "    <tr style=\"text-align: right;\">\n",
       "      <th></th>\n",
       "      <th>Company</th>\n",
       "      <th>Rating</th>\n",
       "      <th>Field</th>\n",
       "      <th>Location</th>\n",
       "      <th>Reviews</th>\n",
       "      <th>Salaries</th>\n",
       "      <th>No_of_Interviews</th>\n",
       "      <th>No_of_jobs</th>\n",
       "      <th>No_of_Benefits</th>\n",
       "    </tr>\n",
       "  </thead>\n",
       "  <tbody>\n",
       "    <tr>\n",
       "      <th>0</th>\n",
       "      <td>HDB Financial Services</td>\n",
       "      <td>4.0</td>\n",
       "      <td>NBFC</td>\n",
       "      <td>Mumbai</td>\n",
       "      <td>19.7k</td>\n",
       "      <td>49.9k</td>\n",
       "      <td>772</td>\n",
       "      <td>120</td>\n",
       "      <td>1.6k</td>\n",
       "    </tr>\n",
       "    <tr>\n",
       "      <th>1</th>\n",
       "      <td>Larsen &amp; Toubro Limited</td>\n",
       "      <td>4.0</td>\n",
       "      <td>Engineering &amp; Construction</td>\n",
       "      <td>Chennai</td>\n",
       "      <td>17.9k</td>\n",
       "      <td>69.3k</td>\n",
       "      <td>1.4k</td>\n",
       "      <td>155</td>\n",
       "      <td>2.9k</td>\n",
       "    </tr>\n",
       "    <tr>\n",
       "      <th>2</th>\n",
       "      <td>Deloitte</td>\n",
       "      <td>3.8</td>\n",
       "      <td>Management Consulting</td>\n",
       "      <td>Hyderabad / Secunderabad</td>\n",
       "      <td>17k</td>\n",
       "      <td>1.8L</td>\n",
       "      <td>2.8k</td>\n",
       "      <td>585</td>\n",
       "      <td>2.6k</td>\n",
       "    </tr>\n",
       "    <tr>\n",
       "      <th>3</th>\n",
       "      <td>BYJUS</td>\n",
       "      <td>3.1</td>\n",
       "      <td>EdTech</td>\n",
       "      <td>Bangalore / Bengaluru</td>\n",
       "      <td>16k</td>\n",
       "      <td>59k</td>\n",
       "      <td>2.2k</td>\n",
       "      <td>1</td>\n",
       "      <td>1.9k</td>\n",
       "    </tr>\n",
       "    <tr>\n",
       "      <th>4</th>\n",
       "      <td>Kotak Mahindra Bank</td>\n",
       "      <td>3.8</td>\n",
       "      <td>Banking</td>\n",
       "      <td>Mumbai</td>\n",
       "      <td>15.9k</td>\n",
       "      <td>81k</td>\n",
       "      <td>1k</td>\n",
       "      <td>14</td>\n",
       "      <td>1.3k</td>\n",
       "    </tr>\n",
       "  </tbody>\n",
       "</table>\n",
       "</div>"
      ],
      "text/plain": [
       "                   Company  Rating                       Field  \\\n",
       "0   HDB Financial Services     4.0                        NBFC   \n",
       "1  Larsen & Toubro Limited     4.0  Engineering & Construction   \n",
       "2                 Deloitte     3.8       Management Consulting   \n",
       "3                    BYJUS     3.1                      EdTech   \n",
       "4      Kotak Mahindra Bank     3.8                     Banking   \n",
       "\n",
       "                    Location Reviews Salaries No_of_Interviews No_of_jobs  \\\n",
       "0                    Mumbai    19.7k    49.9k              772        120   \n",
       "1                   Chennai    17.9k    69.3k             1.4k        155   \n",
       "2  Hyderabad / Secunderabad      17k     1.8L             2.8k        585   \n",
       "3     Bangalore / Bengaluru      16k      59k             2.2k          1   \n",
       "4                    Mumbai    15.9k      81k               1k         14   \n",
       "\n",
       "  No_of_Benefits  \n",
       "0           1.6k  \n",
       "1           2.9k  \n",
       "2           2.6k  \n",
       "3           1.9k  \n",
       "4           1.3k  "
      ]
     },
     "execution_count": 35,
     "metadata": {},
     "output_type": "execute_result"
    }
   ],
   "source": [
    "df.head()"
   ]
  },
  {
   "cell_type": "code",
   "execution_count": 36,
   "id": "c2fd7eb3-1f5a-4ec9-b2df-10c28ba07a00",
   "metadata": {},
   "outputs": [
    {
     "data": {
      "text/html": [
       "<div>\n",
       "<style scoped>\n",
       "    .dataframe tbody tr th:only-of-type {\n",
       "        vertical-align: middle;\n",
       "    }\n",
       "\n",
       "    .dataframe tbody tr th {\n",
       "        vertical-align: top;\n",
       "    }\n",
       "\n",
       "    .dataframe thead th {\n",
       "        text-align: right;\n",
       "    }\n",
       "</style>\n",
       "<table border=\"1\" class=\"dataframe\">\n",
       "  <thead>\n",
       "    <tr style=\"text-align: right;\">\n",
       "      <th></th>\n",
       "      <th>Company</th>\n",
       "      <th>Rating</th>\n",
       "      <th>Field</th>\n",
       "      <th>Location</th>\n",
       "      <th>Reviews</th>\n",
       "      <th>Salaries</th>\n",
       "      <th>No_of_Interviews</th>\n",
       "      <th>No_of_jobs</th>\n",
       "      <th>No_of_Benefits</th>\n",
       "    </tr>\n",
       "  </thead>\n",
       "  <tbody>\n",
       "    <tr>\n",
       "      <th>1155</th>\n",
       "      <td>Shilpa Medicare</td>\n",
       "      <td>4.2</td>\n",
       "      <td>Automobile</td>\n",
       "      <td>Hyderabad / Secunderabad</td>\n",
       "      <td>679</td>\n",
       "      <td>4k</td>\n",
       "      <td>27</td>\n",
       "      <td>1</td>\n",
       "      <td>85</td>\n",
       "    </tr>\n",
       "    <tr>\n",
       "      <th>1156</th>\n",
       "      <td>Škoda Auto Volkswagen</td>\n",
       "      <td>3.4</td>\n",
       "      <td>Pharma</td>\n",
       "      <td>Pune</td>\n",
       "      <td>679</td>\n",
       "      <td>3.7k</td>\n",
       "      <td>51</td>\n",
       "      <td>7</td>\n",
       "      <td>57</td>\n",
       "    </tr>\n",
       "    <tr>\n",
       "      <th>1157</th>\n",
       "      <td>Salcomp Manufacturing</td>\n",
       "      <td>4.0</td>\n",
       "      <td>IT Services &amp; Consulting</td>\n",
       "      <td>Chennai</td>\n",
       "      <td>681</td>\n",
       "      <td>5.2k</td>\n",
       "      <td>56</td>\n",
       "      <td>290</td>\n",
       "      <td>66</td>\n",
       "    </tr>\n",
       "    <tr>\n",
       "      <th>1158</th>\n",
       "      <td>NTT</td>\n",
       "      <td>4.1</td>\n",
       "      <td>Electronics Manufacturing</td>\n",
       "      <td>Mumbai</td>\n",
       "      <td>679</td>\n",
       "      <td>3.7k</td>\n",
       "      <td>59</td>\n",
       "      <td>1</td>\n",
       "      <td>78</td>\n",
       "    </tr>\n",
       "    <tr>\n",
       "      <th>1159</th>\n",
       "      <td>Royal Sundaram General Insurance</td>\n",
       "      <td>4.0</td>\n",
       "      <td>Insurance</td>\n",
       "      <td>Chennai</td>\n",
       "      <td>679</td>\n",
       "      <td>2.6k</td>\n",
       "      <td>20</td>\n",
       "      <td>--</td>\n",
       "      <td>65</td>\n",
       "    </tr>\n",
       "  </tbody>\n",
       "</table>\n",
       "</div>"
      ],
      "text/plain": [
       "                               Company  Rating                      Field  \\\n",
       "1155                   Shilpa Medicare     4.2                 Automobile   \n",
       "1156             Škoda Auto Volkswagen     3.4                     Pharma   \n",
       "1157             Salcomp Manufacturing     4.0   IT Services & Consulting   \n",
       "1158                               NTT     4.1  Electronics Manufacturing   \n",
       "1159  Royal Sundaram General Insurance     4.0                  Insurance   \n",
       "\n",
       "                       Location Reviews Salaries No_of_Interviews No_of_jobs  \\\n",
       "1155  Hyderabad / Secunderabad      679       4k               27          1   \n",
       "1156                      Pune      679     3.7k               51          7   \n",
       "1157                   Chennai      681     5.2k               56        290   \n",
       "1158                    Mumbai      679     3.7k               59          1   \n",
       "1159                   Chennai      679     2.6k               20         --   \n",
       "\n",
       "     No_of_Benefits  \n",
       "1155             85  \n",
       "1156             57  \n",
       "1157             66  \n",
       "1158             78  \n",
       "1159             65  "
      ]
     },
     "execution_count": 36,
     "metadata": {},
     "output_type": "execute_result"
    }
   ],
   "source": [
    "df.tail()"
   ]
  },
  {
   "cell_type": "code",
   "execution_count": 37,
   "id": "1d3cfabb-8776-4a64-8215-c4731ff62125",
   "metadata": {},
   "outputs": [
    {
     "data": {
      "text/plain": [
       "Index(['Company', 'Rating', 'Field', 'Location', 'Reviews', 'Salaries',\n",
       "       'No_of_Interviews', 'No_of_jobs', 'No_of_Benefits'],\n",
       "      dtype='object')"
      ]
     },
     "execution_count": 37,
     "metadata": {},
     "output_type": "execute_result"
    }
   ],
   "source": [
    "df.columns"
   ]
  },
  {
   "cell_type": "code",
   "execution_count": 38,
   "id": "c2fde29a-e8f2-4efc-9ebc-650d615b635b",
   "metadata": {},
   "outputs": [
    {
     "data": {
      "text/plain": [
       "Company              object\n",
       "Rating              float64\n",
       "Field                object\n",
       "Location             object\n",
       "Reviews              object\n",
       "Salaries             object\n",
       "No_of_Interviews     object\n",
       "No_of_jobs           object\n",
       "No_of_Benefits       object\n",
       "dtype: object"
      ]
     },
     "execution_count": 38,
     "metadata": {},
     "output_type": "execute_result"
    }
   ],
   "source": [
    "df.dtypes"
   ]
  },
  {
   "cell_type": "code",
   "execution_count": 39,
   "id": "3492284d-da2b-4420-aff3-ed41c532a930",
   "metadata": {},
   "outputs": [
    {
     "name": "stdout",
     "output_type": "stream",
     "text": [
      "<class 'pandas.core.frame.DataFrame'>\n",
      "RangeIndex: 1160 entries, 0 to 1159\n",
      "Data columns (total 9 columns):\n",
      " #   Column            Non-Null Count  Dtype  \n",
      "---  ------            --------------  -----  \n",
      " 0   Company           1160 non-null   object \n",
      " 1   Rating            1160 non-null   float64\n",
      " 2   Field             1160 non-null   object \n",
      " 3   Location          1160 non-null   object \n",
      " 4   Reviews           1160 non-null   object \n",
      " 5   Salaries          1160 non-null   object \n",
      " 6   No_of_Interviews  1160 non-null   object \n",
      " 7   No_of_jobs        1160 non-null   object \n",
      " 8   No_of_Benefits    1160 non-null   object \n",
      "dtypes: float64(1), object(8)\n",
      "memory usage: 81.7+ KB\n"
     ]
    }
   ],
   "source": [
    "df.info()"
   ]
  },
  {
   "cell_type": "code",
   "execution_count": 10,
   "id": "9b717364-db13-40d0-b0c3-efb8af6af71c",
   "metadata": {},
   "outputs": [
    {
     "data": {
      "text/html": [
       "<div>\n",
       "<style scoped>\n",
       "    .dataframe tbody tr th:only-of-type {\n",
       "        vertical-align: middle;\n",
       "    }\n",
       "\n",
       "    .dataframe tbody tr th {\n",
       "        vertical-align: top;\n",
       "    }\n",
       "\n",
       "    .dataframe thead th {\n",
       "        text-align: right;\n",
       "    }\n",
       "</style>\n",
       "<table border=\"1\" class=\"dataframe\">\n",
       "  <thead>\n",
       "    <tr style=\"text-align: right;\">\n",
       "      <th></th>\n",
       "      <th>Rating</th>\n",
       "    </tr>\n",
       "  </thead>\n",
       "  <tbody>\n",
       "    <tr>\n",
       "      <th>count</th>\n",
       "      <td>1160.000000</td>\n",
       "    </tr>\n",
       "    <tr>\n",
       "      <th>mean</th>\n",
       "      <td>3.912328</td>\n",
       "    </tr>\n",
       "    <tr>\n",
       "      <th>std</th>\n",
       "      <td>0.318990</td>\n",
       "    </tr>\n",
       "    <tr>\n",
       "      <th>min</th>\n",
       "      <td>2.700000</td>\n",
       "    </tr>\n",
       "    <tr>\n",
       "      <th>25%</th>\n",
       "      <td>3.700000</td>\n",
       "    </tr>\n",
       "    <tr>\n",
       "      <th>50%</th>\n",
       "      <td>4.000000</td>\n",
       "    </tr>\n",
       "    <tr>\n",
       "      <th>75%</th>\n",
       "      <td>4.100000</td>\n",
       "    </tr>\n",
       "    <tr>\n",
       "      <th>max</th>\n",
       "      <td>5.000000</td>\n",
       "    </tr>\n",
       "  </tbody>\n",
       "</table>\n",
       "</div>"
      ],
      "text/plain": [
       "            Rating\n",
       "count  1160.000000\n",
       "mean      3.912328\n",
       "std       0.318990\n",
       "min       2.700000\n",
       "25%       3.700000\n",
       "50%       4.000000\n",
       "75%       4.100000\n",
       "max       5.000000"
      ]
     },
     "execution_count": 10,
     "metadata": {},
     "output_type": "execute_result"
    }
   ],
   "source": [
    "df.describe()"
   ]
  },
  {
   "cell_type": "code",
   "execution_count": 11,
   "id": "1e6f8c9d-4615-4fd2-aa2e-05c9f92a285d",
   "metadata": {},
   "outputs": [
    {
     "name": "stdout",
     "output_type": "stream",
     "text": [
      "No of unique values in Company => 1158.\n",
      "No of unique values in Rating => 24.\n",
      "No of unique values in Field => 85.\n",
      "No of unique values in Location => 71.\n",
      "No of unique values in Reviews => 297.\n",
      "No of unique values in Salaries => 275.\n",
      "No of unique values in No_of_Interviews => 358.\n",
      "No of unique values in No_of_jobs => 207.\n",
      "No of unique values in No_of_Benefits => 444.\n"
     ]
    }
   ],
   "source": [
    "for i in df.columns.to_list():\n",
    "    print(f\"No of unique values in {i} => {df[i].nunique()}.\")"
   ]
  },
  {
   "cell_type": "code",
   "execution_count": 12,
   "id": "c510c5b7-4b87-4cf5-8ddf-8b0fdeca6c7c",
   "metadata": {},
   "outputs": [],
   "source": [
    "df['Rating'] = df['Rating'].astype('float')"
   ]
  },
  {
   "cell_type": "code",
   "execution_count": 13,
   "id": "361c543f-c6ab-4954-ba9a-2f021b7b1c09",
   "metadata": {},
   "outputs": [],
   "source": [
    "df['Reviews'] = df['Reviews'].replace('--', np.nan)"
   ]
  },
  {
   "cell_type": "code",
   "execution_count": 14,
   "id": "68831348-fec4-424c-8326-8245929ad35d",
   "metadata": {},
   "outputs": [],
   "source": [
    "df['Salaries'] = df['Salaries'].replace('--', np.nan)"
   ]
  },
  {
   "cell_type": "code",
   "execution_count": 15,
   "id": "646e8083-4ea7-4152-afe3-e06232418e32",
   "metadata": {},
   "outputs": [],
   "source": [
    "df['No_of_Interviews'] = df['No_of_Interviews'].replace('--', np.nan)"
   ]
  },
  {
   "cell_type": "code",
   "execution_count": 16,
   "id": "5b082ace-5e1b-4a8f-b379-c650475cd5d0",
   "metadata": {},
   "outputs": [],
   "source": [
    "df['No_of_jobs'] = df['No_of_jobs'].replace('--', np.nan)"
   ]
  },
  {
   "cell_type": "code",
   "execution_count": 17,
   "id": "1a1fa55c-f9eb-4f80-a2cd-904441aa9b90",
   "metadata": {},
   "outputs": [],
   "source": [
    "df['No_of_Benefits'] = df['No_of_Benefits'].replace('--', np.nan)"
   ]
  },
  {
   "cell_type": "code",
   "execution_count": 18,
   "id": "9d01de9a-1d6c-4d16-9b81-2adc76bc282a",
   "metadata": {},
   "outputs": [],
   "source": [
    "def convert_column(column):\n",
    "    if isinstance(column, str):\n",
    "        column = column.strip().lower()  # Removes spaces and converts to lowercase\n",
    "        if 'k' in column:\n",
    "            return float(column.replace('k', '')) * 1000\n",
    "        elif 'l' in column:\n",
    "            return float(column.replace('l', '')) * 100000\n",
    "    return float(column)"
   ]
  },
  {
   "cell_type": "code",
   "execution_count": 19,
   "id": "1650d2f3-66a9-4cd9-8077-9398eae1aaf5",
   "metadata": {},
   "outputs": [
    {
     "data": {
      "text/html": [
       "<div>\n",
       "<style scoped>\n",
       "    .dataframe tbody tr th:only-of-type {\n",
       "        vertical-align: middle;\n",
       "    }\n",
       "\n",
       "    .dataframe tbody tr th {\n",
       "        vertical-align: top;\n",
       "    }\n",
       "\n",
       "    .dataframe thead th {\n",
       "        text-align: right;\n",
       "    }\n",
       "</style>\n",
       "<table border=\"1\" class=\"dataframe\">\n",
       "  <thead>\n",
       "    <tr style=\"text-align: right;\">\n",
       "      <th></th>\n",
       "      <th>Company</th>\n",
       "      <th>Rating</th>\n",
       "      <th>Field</th>\n",
       "      <th>Location</th>\n",
       "      <th>Reviews</th>\n",
       "      <th>Salaries</th>\n",
       "      <th>No_of_Interviews</th>\n",
       "      <th>No_of_jobs</th>\n",
       "      <th>No_of_Benefits</th>\n",
       "    </tr>\n",
       "  </thead>\n",
       "  <tbody>\n",
       "    <tr>\n",
       "      <th>0</th>\n",
       "      <td>HDB Financial Services</td>\n",
       "      <td>4.0</td>\n",
       "      <td>NBFC</td>\n",
       "      <td>Mumbai</td>\n",
       "      <td>19.7k</td>\n",
       "      <td>49.9k</td>\n",
       "      <td>772</td>\n",
       "      <td>120</td>\n",
       "      <td>1.6k</td>\n",
       "    </tr>\n",
       "    <tr>\n",
       "      <th>1</th>\n",
       "      <td>Larsen &amp; Toubro Limited</td>\n",
       "      <td>4.0</td>\n",
       "      <td>Engineering &amp; Construction</td>\n",
       "      <td>Chennai</td>\n",
       "      <td>17.9k</td>\n",
       "      <td>69.3k</td>\n",
       "      <td>1.4k</td>\n",
       "      <td>155</td>\n",
       "      <td>2.9k</td>\n",
       "    </tr>\n",
       "    <tr>\n",
       "      <th>2</th>\n",
       "      <td>Deloitte</td>\n",
       "      <td>3.8</td>\n",
       "      <td>Management Consulting</td>\n",
       "      <td>Hyderabad / Secunderabad</td>\n",
       "      <td>17k</td>\n",
       "      <td>1.8L</td>\n",
       "      <td>2.8k</td>\n",
       "      <td>585</td>\n",
       "      <td>2.6k</td>\n",
       "    </tr>\n",
       "    <tr>\n",
       "      <th>3</th>\n",
       "      <td>BYJUS</td>\n",
       "      <td>3.1</td>\n",
       "      <td>EdTech</td>\n",
       "      <td>Bangalore / Bengaluru</td>\n",
       "      <td>16k</td>\n",
       "      <td>59k</td>\n",
       "      <td>2.2k</td>\n",
       "      <td>1</td>\n",
       "      <td>1.9k</td>\n",
       "    </tr>\n",
       "    <tr>\n",
       "      <th>4</th>\n",
       "      <td>Kotak Mahindra Bank</td>\n",
       "      <td>3.8</td>\n",
       "      <td>Banking</td>\n",
       "      <td>Mumbai</td>\n",
       "      <td>15.9k</td>\n",
       "      <td>81k</td>\n",
       "      <td>1k</td>\n",
       "      <td>14</td>\n",
       "      <td>1.3k</td>\n",
       "    </tr>\n",
       "    <tr>\n",
       "      <th>...</th>\n",
       "      <td>...</td>\n",
       "      <td>...</td>\n",
       "      <td>...</td>\n",
       "      <td>...</td>\n",
       "      <td>...</td>\n",
       "      <td>...</td>\n",
       "      <td>...</td>\n",
       "      <td>...</td>\n",
       "      <td>...</td>\n",
       "    </tr>\n",
       "    <tr>\n",
       "      <th>1155</th>\n",
       "      <td>Shilpa Medicare</td>\n",
       "      <td>4.2</td>\n",
       "      <td>Automobile</td>\n",
       "      <td>Hyderabad / Secunderabad</td>\n",
       "      <td>679</td>\n",
       "      <td>4k</td>\n",
       "      <td>27</td>\n",
       "      <td>1</td>\n",
       "      <td>85</td>\n",
       "    </tr>\n",
       "    <tr>\n",
       "      <th>1156</th>\n",
       "      <td>Škoda Auto Volkswagen</td>\n",
       "      <td>3.4</td>\n",
       "      <td>Pharma</td>\n",
       "      <td>Pune</td>\n",
       "      <td>679</td>\n",
       "      <td>3.7k</td>\n",
       "      <td>51</td>\n",
       "      <td>7</td>\n",
       "      <td>57</td>\n",
       "    </tr>\n",
       "    <tr>\n",
       "      <th>1157</th>\n",
       "      <td>Salcomp Manufacturing</td>\n",
       "      <td>4.0</td>\n",
       "      <td>IT Services &amp; Consulting</td>\n",
       "      <td>Chennai</td>\n",
       "      <td>681</td>\n",
       "      <td>5.2k</td>\n",
       "      <td>56</td>\n",
       "      <td>290</td>\n",
       "      <td>66</td>\n",
       "    </tr>\n",
       "    <tr>\n",
       "      <th>1158</th>\n",
       "      <td>NTT</td>\n",
       "      <td>4.1</td>\n",
       "      <td>Electronics Manufacturing</td>\n",
       "      <td>Mumbai</td>\n",
       "      <td>679</td>\n",
       "      <td>3.7k</td>\n",
       "      <td>59</td>\n",
       "      <td>1</td>\n",
       "      <td>78</td>\n",
       "    </tr>\n",
       "    <tr>\n",
       "      <th>1159</th>\n",
       "      <td>Royal Sundaram General Insurance</td>\n",
       "      <td>4.0</td>\n",
       "      <td>Insurance</td>\n",
       "      <td>Chennai</td>\n",
       "      <td>679</td>\n",
       "      <td>2.6k</td>\n",
       "      <td>20</td>\n",
       "      <td>NaN</td>\n",
       "      <td>65</td>\n",
       "    </tr>\n",
       "  </tbody>\n",
       "</table>\n",
       "<p>1160 rows × 9 columns</p>\n",
       "</div>"
      ],
      "text/plain": [
       "                               Company  Rating                       Field  \\\n",
       "0               HDB Financial Services     4.0                        NBFC   \n",
       "1              Larsen & Toubro Limited     4.0  Engineering & Construction   \n",
       "2                             Deloitte     3.8       Management Consulting   \n",
       "3                                BYJUS     3.1                      EdTech   \n",
       "4                  Kotak Mahindra Bank     3.8                     Banking   \n",
       "...                                ...     ...                         ...   \n",
       "1155                   Shilpa Medicare     4.2                  Automobile   \n",
       "1156             Škoda Auto Volkswagen     3.4                      Pharma   \n",
       "1157             Salcomp Manufacturing     4.0    IT Services & Consulting   \n",
       "1158                               NTT     4.1   Electronics Manufacturing   \n",
       "1159  Royal Sundaram General Insurance     4.0                   Insurance   \n",
       "\n",
       "                       Location Reviews Salaries No_of_Interviews No_of_jobs  \\\n",
       "0                       Mumbai    19.7k    49.9k              772        120   \n",
       "1                      Chennai    17.9k    69.3k             1.4k        155   \n",
       "2     Hyderabad / Secunderabad      17k     1.8L             2.8k        585   \n",
       "3        Bangalore / Bengaluru      16k      59k             2.2k          1   \n",
       "4                       Mumbai    15.9k      81k               1k         14   \n",
       "...                         ...     ...      ...              ...        ...   \n",
       "1155  Hyderabad / Secunderabad      679       4k               27          1   \n",
       "1156                      Pune      679     3.7k               51          7   \n",
       "1157                   Chennai      681     5.2k               56        290   \n",
       "1158                    Mumbai      679     3.7k               59          1   \n",
       "1159                   Chennai      679     2.6k               20        NaN   \n",
       "\n",
       "     No_of_Benefits  \n",
       "0              1.6k  \n",
       "1              2.9k  \n",
       "2              2.6k  \n",
       "3              1.9k  \n",
       "4              1.3k  \n",
       "...             ...  \n",
       "1155             85  \n",
       "1156             57  \n",
       "1157             66  \n",
       "1158             78  \n",
       "1159             65  \n",
       "\n",
       "[1160 rows x 9 columns]"
      ]
     },
     "execution_count": 19,
     "metadata": {},
     "output_type": "execute_result"
    }
   ],
   "source": [
    "df"
   ]
  },
  {
   "cell_type": "code",
   "execution_count": 20,
   "id": "f10f40ea-14e7-4499-993d-4183b12faf4a",
   "metadata": {},
   "outputs": [],
   "source": [
    "df['Reviews'] = df['Reviews'].apply(convert_column)"
   ]
  },
  {
   "cell_type": "code",
   "execution_count": 21,
   "id": "9a9440c0-9276-4978-b374-87504e47e0d7",
   "metadata": {},
   "outputs": [
    {
     "data": {
      "text/plain": [
       "0    19700.0\n",
       "1    17900.0\n",
       "2    17000.0\n",
       "3    16000.0\n",
       "4    15900.0\n",
       "Name: Reviews, dtype: float64"
      ]
     },
     "execution_count": 21,
     "metadata": {},
     "output_type": "execute_result"
    }
   ],
   "source": [
    "df['Reviews'].head()"
   ]
  },
  {
   "cell_type": "code",
   "execution_count": 22,
   "id": "343974bf-ca21-43a5-a664-13edefdd07e3",
   "metadata": {},
   "outputs": [],
   "source": [
    "df['Salaries'] = df['Salaries'].apply(convert_column)"
   ]
  },
  {
   "cell_type": "code",
   "execution_count": 23,
   "id": "f46f4013-61b6-43c9-9078-27a20b420a32",
   "metadata": {},
   "outputs": [
    {
     "data": {
      "text/plain": [
       "0     49900.0\n",
       "1     69300.0\n",
       "2    180000.0\n",
       "3     59000.0\n",
       "4     81000.0\n",
       "Name: Salaries, dtype: float64"
      ]
     },
     "execution_count": 23,
     "metadata": {},
     "output_type": "execute_result"
    }
   ],
   "source": [
    "df['Salaries'].head()"
   ]
  },
  {
   "cell_type": "code",
   "execution_count": 24,
   "id": "b09536d8-f1b3-41d9-9623-fc9ae3fa428a",
   "metadata": {},
   "outputs": [],
   "source": [
    "df['No_of_Interviews'] = df['No_of_Interviews'].apply(convert_column)"
   ]
  },
  {
   "cell_type": "code",
   "execution_count": 25,
   "id": "c55c4a18-3325-4d45-bda6-e954d921538b",
   "metadata": {},
   "outputs": [
    {
     "data": {
      "text/plain": [
       "0     772.0\n",
       "1    1400.0\n",
       "2    2800.0\n",
       "3    2200.0\n",
       "4    1000.0\n",
       "Name: No_of_Interviews, dtype: float64"
      ]
     },
     "execution_count": 25,
     "metadata": {},
     "output_type": "execute_result"
    }
   ],
   "source": [
    "df['No_of_Interviews'].head()"
   ]
  },
  {
   "cell_type": "code",
   "execution_count": 26,
   "id": "1d55916b-6aef-4f7b-8f03-f81ab3554044",
   "metadata": {},
   "outputs": [],
   "source": [
    "df['No_of_jobs'] = df['No_of_jobs'].apply(convert_column)"
   ]
  },
  {
   "cell_type": "code",
   "execution_count": 27,
   "id": "a161ad85-a9fb-4758-8c4c-e9eef9aad2a6",
   "metadata": {},
   "outputs": [
    {
     "data": {
      "text/plain": [
       "0    120.0\n",
       "1    155.0\n",
       "2    585.0\n",
       "3      1.0\n",
       "4     14.0\n",
       "Name: No_of_jobs, dtype: float64"
      ]
     },
     "execution_count": 27,
     "metadata": {},
     "output_type": "execute_result"
    }
   ],
   "source": [
    "df['No_of_jobs'].head()"
   ]
  },
  {
   "cell_type": "code",
   "execution_count": 28,
   "id": "a5032be3-4a97-4bb6-a7ee-3f4fae06e8a0",
   "metadata": {},
   "outputs": [],
   "source": [
    "df['No_of_Benefits'] = df['No_of_Benefits'].apply(convert_column)"
   ]
  },
  {
   "cell_type": "code",
   "execution_count": 29,
   "id": "e8232b4c-00d9-4b37-aec0-8fee05b5ce7c",
   "metadata": {},
   "outputs": [
    {
     "data": {
      "text/plain": [
       "0    1600.0\n",
       "1    2900.0\n",
       "2    2600.0\n",
       "3    1900.0\n",
       "4    1300.0\n",
       "Name: No_of_Benefits, dtype: float64"
      ]
     },
     "execution_count": 29,
     "metadata": {},
     "output_type": "execute_result"
    }
   ],
   "source": [
    "df['No_of_Benefits'].head()"
   ]
  },
  {
   "cell_type": "markdown",
   "id": "8a400dce-6bd5-4986-bb18-f55d91ce449e",
   "metadata": {},
   "source": [
    "### Data Cleaning"
   ]
  },
  {
   "cell_type": "code",
   "execution_count": 30,
   "id": "24b6a4ae-515c-4171-a613-0de551ff8754",
   "metadata": {},
   "outputs": [
    {
     "data": {
      "text/plain": [
       "Company               0\n",
       "Rating                0\n",
       "Field                 0\n",
       "Location              0\n",
       "Reviews               1\n",
       "Salaries              1\n",
       "No_of_Interviews      2\n",
       "No_of_jobs          230\n",
       "No_of_Benefits        1\n",
       "dtype: int64"
      ]
     },
     "execution_count": 30,
     "metadata": {},
     "output_type": "execute_result"
    }
   ],
   "source": [
    "df.isna().sum()"
   ]
  },
  {
   "cell_type": "code",
   "execution_count": 373,
   "id": "765dfc60-2207-417b-8a3d-f13f29d1013c",
   "metadata": {},
   "outputs": [
    {
     "data": {
      "text/html": [
       "<div>\n",
       "<style scoped>\n",
       "    .dataframe tbody tr th:only-of-type {\n",
       "        vertical-align: middle;\n",
       "    }\n",
       "\n",
       "    .dataframe tbody tr th {\n",
       "        vertical-align: top;\n",
       "    }\n",
       "\n",
       "    .dataframe thead th {\n",
       "        text-align: right;\n",
       "    }\n",
       "</style>\n",
       "<table border=\"1\" class=\"dataframe\">\n",
       "  <thead>\n",
       "    <tr style=\"text-align: right;\">\n",
       "      <th></th>\n",
       "      <th>Company</th>\n",
       "      <th>Rating</th>\n",
       "      <th>Field</th>\n",
       "      <th>Location</th>\n",
       "      <th>Reviews</th>\n",
       "      <th>Salaries</th>\n",
       "      <th>No_of_Interviews</th>\n",
       "      <th>No_of_jobs</th>\n",
       "      <th>No_of_Benefits</th>\n",
       "    </tr>\n",
       "  </thead>\n",
       "  <tbody>\n",
       "    <tr>\n",
       "      <th>1141</th>\n",
       "      <td>Citigroup</td>\n",
       "      <td>3.8</td>\n",
       "      <td>FinTech</td>\n",
       "      <td>Pune</td>\n",
       "      <td>NaN</td>\n",
       "      <td>3000.0</td>\n",
       "      <td>37.0</td>\n",
       "      <td>NaN</td>\n",
       "      <td>65.0</td>\n",
       "    </tr>\n",
       "  </tbody>\n",
       "</table>\n",
       "</div>"
      ],
      "text/plain": [
       "        Company  Rating    Field Location  Reviews  Salaries  \\\n",
       "1141  Citigroup     3.8  FinTech    Pune       NaN    3000.0   \n",
       "\n",
       "      No_of_Interviews  No_of_jobs  No_of_Benefits  \n",
       "1141              37.0         NaN            65.0  "
      ]
     },
     "execution_count": 373,
     "metadata": {},
     "output_type": "execute_result"
    }
   ],
   "source": [
    "df[df['Reviews'].isna()]"
   ]
  },
  {
   "cell_type": "code",
   "execution_count": 374,
   "id": "a56190b8-5076-45fb-95d2-b58301108a56",
   "metadata": {},
   "outputs": [
    {
     "data": {
      "text/html": [
       "<div>\n",
       "<style scoped>\n",
       "    .dataframe tbody tr th:only-of-type {\n",
       "        vertical-align: middle;\n",
       "    }\n",
       "\n",
       "    .dataframe tbody tr th {\n",
       "        vertical-align: top;\n",
       "    }\n",
       "\n",
       "    .dataframe thead th {\n",
       "        text-align: right;\n",
       "    }\n",
       "</style>\n",
       "<table border=\"1\" class=\"dataframe\">\n",
       "  <thead>\n",
       "    <tr style=\"text-align: right;\">\n",
       "      <th></th>\n",
       "      <th>Company</th>\n",
       "      <th>Rating</th>\n",
       "      <th>Field</th>\n",
       "      <th>Location</th>\n",
       "      <th>Reviews</th>\n",
       "      <th>Salaries</th>\n",
       "      <th>No_of_Interviews</th>\n",
       "      <th>No_of_jobs</th>\n",
       "      <th>No_of_Benefits</th>\n",
       "    </tr>\n",
       "  </thead>\n",
       "  <tbody>\n",
       "    <tr>\n",
       "      <th>1141</th>\n",
       "      <td>Citigroup</td>\n",
       "      <td>3.8</td>\n",
       "      <td>FinTech</td>\n",
       "      <td>Pune</td>\n",
       "      <td>NaN</td>\n",
       "      <td>3000.0</td>\n",
       "      <td>37.0</td>\n",
       "      <td>NaN</td>\n",
       "      <td>65.0</td>\n",
       "    </tr>\n",
       "  </tbody>\n",
       "</table>\n",
       "</div>"
      ],
      "text/plain": [
       "        Company  Rating    Field Location  Reviews  Salaries  \\\n",
       "1141  Citigroup     3.8  FinTech    Pune       NaN    3000.0   \n",
       "\n",
       "      No_of_Interviews  No_of_jobs  No_of_Benefits  \n",
       "1141              37.0         NaN            65.0  "
      ]
     },
     "execution_count": 374,
     "metadata": {},
     "output_type": "execute_result"
    }
   ],
   "source": [
    "df[df['Company'] == 'Citigroup']"
   ]
  },
  {
   "cell_type": "code",
   "execution_count": 375,
   "id": "c83cf7fb-fe49-4558-8121-fecf0420d2c5",
   "metadata": {},
   "outputs": [],
   "source": [
    "df['Reviews'].fillna(df['Reviews'].mean(),inplace = True)"
   ]
  },
  {
   "cell_type": "code",
   "execution_count": 376,
   "id": "bfe7bcd2-e18a-445f-9ae1-2798a49257a8",
   "metadata": {},
   "outputs": [
    {
     "data": {
      "text/plain": [
       "np.int64(0)"
      ]
     },
     "execution_count": 376,
     "metadata": {},
     "output_type": "execute_result"
    }
   ],
   "source": [
    "df['Reviews'].isna().sum()"
   ]
  },
  {
   "cell_type": "code",
   "execution_count": 377,
   "id": "33eee765-e04c-4c66-b28c-f4538d68ee4c",
   "metadata": {},
   "outputs": [
    {
     "data": {
      "text/html": [
       "<div>\n",
       "<style scoped>\n",
       "    .dataframe tbody tr th:only-of-type {\n",
       "        vertical-align: middle;\n",
       "    }\n",
       "\n",
       "    .dataframe tbody tr th {\n",
       "        vertical-align: top;\n",
       "    }\n",
       "\n",
       "    .dataframe thead th {\n",
       "        text-align: right;\n",
       "    }\n",
       "</style>\n",
       "<table border=\"1\" class=\"dataframe\">\n",
       "  <thead>\n",
       "    <tr style=\"text-align: right;\">\n",
       "      <th></th>\n",
       "      <th>Company</th>\n",
       "      <th>Rating</th>\n",
       "      <th>Field</th>\n",
       "      <th>Location</th>\n",
       "      <th>Reviews</th>\n",
       "      <th>Salaries</th>\n",
       "      <th>No_of_Interviews</th>\n",
       "      <th>No_of_jobs</th>\n",
       "      <th>No_of_Benefits</th>\n",
       "    </tr>\n",
       "  </thead>\n",
       "  <tbody>\n",
       "    <tr>\n",
       "      <th>1140</th>\n",
       "      <td>OCS Group</td>\n",
       "      <td>3.6</td>\n",
       "      <td>Financial Services</td>\n",
       "      <td>Mumbai</td>\n",
       "      <td>688.0</td>\n",
       "      <td>NaN</td>\n",
       "      <td>NaN</td>\n",
       "      <td>NaN</td>\n",
       "      <td>NaN</td>\n",
       "    </tr>\n",
       "  </tbody>\n",
       "</table>\n",
       "</div>"
      ],
      "text/plain": [
       "        Company  Rating               Field Location  Reviews  Salaries  \\\n",
       "1140  OCS Group     3.6  Financial Services  Mumbai     688.0       NaN   \n",
       "\n",
       "      No_of_Interviews  No_of_jobs  No_of_Benefits  \n",
       "1140               NaN         NaN             NaN  "
      ]
     },
     "execution_count": 377,
     "metadata": {},
     "output_type": "execute_result"
    }
   ],
   "source": [
    "df[df['Salaries'].isna()]"
   ]
  },
  {
   "cell_type": "code",
   "execution_count": 378,
   "id": "9cf4cb0e-0840-4087-ab76-22ad3721fc53",
   "metadata": {},
   "outputs": [
    {
     "data": {
      "text/html": [
       "<div>\n",
       "<style scoped>\n",
       "    .dataframe tbody tr th:only-of-type {\n",
       "        vertical-align: middle;\n",
       "    }\n",
       "\n",
       "    .dataframe tbody tr th {\n",
       "        vertical-align: top;\n",
       "    }\n",
       "\n",
       "    .dataframe thead th {\n",
       "        text-align: right;\n",
       "    }\n",
       "</style>\n",
       "<table border=\"1\" class=\"dataframe\">\n",
       "  <thead>\n",
       "    <tr style=\"text-align: right;\">\n",
       "      <th></th>\n",
       "      <th>Company</th>\n",
       "      <th>Rating</th>\n",
       "      <th>Field</th>\n",
       "      <th>Location</th>\n",
       "      <th>Reviews</th>\n",
       "      <th>Salaries</th>\n",
       "      <th>No_of_Interviews</th>\n",
       "      <th>No_of_jobs</th>\n",
       "      <th>No_of_Benefits</th>\n",
       "    </tr>\n",
       "  </thead>\n",
       "  <tbody>\n",
       "    <tr>\n",
       "      <th>1140</th>\n",
       "      <td>OCS Group</td>\n",
       "      <td>3.6</td>\n",
       "      <td>Financial Services</td>\n",
       "      <td>Mumbai</td>\n",
       "      <td>688.0</td>\n",
       "      <td>NaN</td>\n",
       "      <td>NaN</td>\n",
       "      <td>NaN</td>\n",
       "      <td>NaN</td>\n",
       "    </tr>\n",
       "  </tbody>\n",
       "</table>\n",
       "</div>"
      ],
      "text/plain": [
       "        Company  Rating               Field Location  Reviews  Salaries  \\\n",
       "1140  OCS Group     3.6  Financial Services  Mumbai     688.0       NaN   \n",
       "\n",
       "      No_of_Interviews  No_of_jobs  No_of_Benefits  \n",
       "1140               NaN         NaN             NaN  "
      ]
     },
     "execution_count": 378,
     "metadata": {},
     "output_type": "execute_result"
    }
   ],
   "source": [
    "df[df['Company'] == 'OCS Group']"
   ]
  },
  {
   "cell_type": "code",
   "execution_count": 379,
   "id": "05e73978-8198-4060-acd7-c7b0f1bd9400",
   "metadata": {},
   "outputs": [],
   "source": [
    "df['Salaries'].fillna(df['Salaries'].mean(),inplace = True)"
   ]
  },
  {
   "cell_type": "code",
   "execution_count": 380,
   "id": "c5f836ee-2c1f-43a8-b2e5-dfb2b0e363f1",
   "metadata": {},
   "outputs": [
    {
     "data": {
      "text/plain": [
       "np.int64(0)"
      ]
     },
     "execution_count": 380,
     "metadata": {},
     "output_type": "execute_result"
    }
   ],
   "source": [
    "df['Salaries'].isna().sum()"
   ]
  },
  {
   "cell_type": "code",
   "execution_count": 381,
   "id": "2f467c62-99a1-425b-a20b-8bfd5e8fb09f",
   "metadata": {},
   "outputs": [
    {
     "data": {
      "text/html": [
       "<div>\n",
       "<style scoped>\n",
       "    .dataframe tbody tr th:only-of-type {\n",
       "        vertical-align: middle;\n",
       "    }\n",
       "\n",
       "    .dataframe tbody tr th {\n",
       "        vertical-align: top;\n",
       "    }\n",
       "\n",
       "    .dataframe thead th {\n",
       "        text-align: right;\n",
       "    }\n",
       "</style>\n",
       "<table border=\"1\" class=\"dataframe\">\n",
       "  <thead>\n",
       "    <tr style=\"text-align: right;\">\n",
       "      <th></th>\n",
       "      <th>Company</th>\n",
       "      <th>Rating</th>\n",
       "      <th>Field</th>\n",
       "      <th>Location</th>\n",
       "      <th>Reviews</th>\n",
       "      <th>Salaries</th>\n",
       "      <th>No_of_Interviews</th>\n",
       "      <th>No_of_jobs</th>\n",
       "      <th>No_of_Benefits</th>\n",
       "    </tr>\n",
       "  </thead>\n",
       "  <tbody>\n",
       "    <tr>\n",
       "      <th>453</th>\n",
       "      <td>Citibank</td>\n",
       "      <td>3.9</td>\n",
       "      <td>Banking</td>\n",
       "      <td>Mumbai</td>\n",
       "      <td>1.0</td>\n",
       "      <td>15100.000000</td>\n",
       "      <td>NaN</td>\n",
       "      <td>NaN</td>\n",
       "      <td>218.0</td>\n",
       "    </tr>\n",
       "    <tr>\n",
       "      <th>1140</th>\n",
       "      <td>OCS Group</td>\n",
       "      <td>3.6</td>\n",
       "      <td>Financial Services</td>\n",
       "      <td>Mumbai</td>\n",
       "      <td>688.0</td>\n",
       "      <td>9188.843831</td>\n",
       "      <td>NaN</td>\n",
       "      <td>NaN</td>\n",
       "      <td>NaN</td>\n",
       "    </tr>\n",
       "  </tbody>\n",
       "</table>\n",
       "</div>"
      ],
      "text/plain": [
       "        Company  Rating               Field Location  Reviews      Salaries  \\\n",
       "453    Citibank     3.9             Banking  Mumbai       1.0  15100.000000   \n",
       "1140  OCS Group     3.6  Financial Services  Mumbai     688.0   9188.843831   \n",
       "\n",
       "      No_of_Interviews  No_of_jobs  No_of_Benefits  \n",
       "453                NaN         NaN           218.0  \n",
       "1140               NaN         NaN             NaN  "
      ]
     },
     "execution_count": 381,
     "metadata": {},
     "output_type": "execute_result"
    }
   ],
   "source": [
    "df[df['No_of_Interviews'].isna()]"
   ]
  },
  {
   "cell_type": "code",
   "execution_count": 382,
   "id": "28cca4ff-cd33-46ee-b988-807fef28192c",
   "metadata": {},
   "outputs": [],
   "source": [
    "df['No_of_Interviews'].fillna(df['No_of_Interviews'].mean(),inplace= True)"
   ]
  },
  {
   "cell_type": "code",
   "execution_count": 383,
   "id": "6d653777-2a61-4be4-af1d-4d142ca30cbf",
   "metadata": {},
   "outputs": [
    {
     "data": {
      "text/plain": [
       "np.int64(0)"
      ]
     },
     "execution_count": 383,
     "metadata": {},
     "output_type": "execute_result"
    }
   ],
   "source": [
    "df['No_of_Interviews'].isna().sum()"
   ]
  },
  {
   "cell_type": "code",
   "execution_count": 384,
   "id": "bcb05ba4-6bdd-4543-80d3-a4db9c0bbd73",
   "metadata": {},
   "outputs": [],
   "source": [
    "df['No_of_jobs'] = df.groupby('Field')['No_of_jobs'].transform(lambda x: x.fillna(x.median()))"
   ]
  },
  {
   "cell_type": "code",
   "execution_count": 385,
   "id": "c70f2e42-afa4-4d5e-acf7-004f6fb1cb45",
   "metadata": {},
   "outputs": [
    {
     "data": {
      "text/html": [
       "<div>\n",
       "<style scoped>\n",
       "    .dataframe tbody tr th:only-of-type {\n",
       "        vertical-align: middle;\n",
       "    }\n",
       "\n",
       "    .dataframe tbody tr th {\n",
       "        vertical-align: top;\n",
       "    }\n",
       "\n",
       "    .dataframe thead th {\n",
       "        text-align: right;\n",
       "    }\n",
       "</style>\n",
       "<table border=\"1\" class=\"dataframe\">\n",
       "  <thead>\n",
       "    <tr style=\"text-align: right;\">\n",
       "      <th></th>\n",
       "      <th>Company</th>\n",
       "      <th>Rating</th>\n",
       "      <th>Field</th>\n",
       "      <th>Location</th>\n",
       "      <th>Reviews</th>\n",
       "      <th>Salaries</th>\n",
       "      <th>No_of_Interviews</th>\n",
       "      <th>No_of_jobs</th>\n",
       "      <th>No_of_Benefits</th>\n",
       "    </tr>\n",
       "  </thead>\n",
       "  <tbody>\n",
       "    <tr>\n",
       "      <th>370</th>\n",
       "      <td>Indian Railways</td>\n",
       "      <td>3.9</td>\n",
       "      <td>Railways</td>\n",
       "      <td>Mumbai</td>\n",
       "      <td>1800.0</td>\n",
       "      <td>8000.0</td>\n",
       "      <td>201.0</td>\n",
       "      <td>NaN</td>\n",
       "      <td>173.0</td>\n",
       "    </tr>\n",
       "  </tbody>\n",
       "</table>\n",
       "</div>"
      ],
      "text/plain": [
       "             Company  Rating     Field Location  Reviews  Salaries  \\\n",
       "370  Indian Railways     3.9  Railways  Mumbai    1800.0    8000.0   \n",
       "\n",
       "     No_of_Interviews  No_of_jobs  No_of_Benefits  \n",
       "370             201.0         NaN           173.0  "
      ]
     },
     "execution_count": 385,
     "metadata": {},
     "output_type": "execute_result"
    }
   ],
   "source": [
    "df[df['No_of_jobs'].isna()]"
   ]
  },
  {
   "cell_type": "code",
   "execution_count": 386,
   "id": "8dc9ece5-34c0-41f1-a5ff-240bef6af72e",
   "metadata": {},
   "outputs": [],
   "source": [
    "df['No_of_jobs'].fillna(df['No_of_jobs'].median(),inplace = True)"
   ]
  },
  {
   "cell_type": "code",
   "execution_count": 387,
   "id": "07602c91-3241-4073-a5c6-3d0ed220ad46",
   "metadata": {},
   "outputs": [
    {
     "data": {
      "text/plain": [
       "np.int64(0)"
      ]
     },
     "execution_count": 387,
     "metadata": {},
     "output_type": "execute_result"
    }
   ],
   "source": [
    "df['No_of_jobs'].isna().sum()"
   ]
  },
  {
   "cell_type": "code",
   "execution_count": 388,
   "id": "5b35f3ab-9b72-4319-9d27-c99ab2a22ac1",
   "metadata": {},
   "outputs": [
    {
     "data": {
      "text/html": [
       "<div>\n",
       "<style scoped>\n",
       "    .dataframe tbody tr th:only-of-type {\n",
       "        vertical-align: middle;\n",
       "    }\n",
       "\n",
       "    .dataframe tbody tr th {\n",
       "        vertical-align: top;\n",
       "    }\n",
       "\n",
       "    .dataframe thead th {\n",
       "        text-align: right;\n",
       "    }\n",
       "</style>\n",
       "<table border=\"1\" class=\"dataframe\">\n",
       "  <thead>\n",
       "    <tr style=\"text-align: right;\">\n",
       "      <th></th>\n",
       "      <th>Company</th>\n",
       "      <th>Rating</th>\n",
       "      <th>Field</th>\n",
       "      <th>Location</th>\n",
       "      <th>Reviews</th>\n",
       "      <th>Salaries</th>\n",
       "      <th>No_of_Interviews</th>\n",
       "      <th>No_of_jobs</th>\n",
       "      <th>No_of_Benefits</th>\n",
       "    </tr>\n",
       "  </thead>\n",
       "  <tbody>\n",
       "    <tr>\n",
       "      <th>1140</th>\n",
       "      <td>OCS Group</td>\n",
       "      <td>3.6</td>\n",
       "      <td>Financial Services</td>\n",
       "      <td>Mumbai</td>\n",
       "      <td>688.0</td>\n",
       "      <td>9188.843831</td>\n",
       "      <td>152.686528</td>\n",
       "      <td>23.0</td>\n",
       "      <td>NaN</td>\n",
       "    </tr>\n",
       "  </tbody>\n",
       "</table>\n",
       "</div>"
      ],
      "text/plain": [
       "        Company  Rating               Field Location  Reviews     Salaries  \\\n",
       "1140  OCS Group     3.6  Financial Services  Mumbai     688.0  9188.843831   \n",
       "\n",
       "      No_of_Interviews  No_of_jobs  No_of_Benefits  \n",
       "1140        152.686528        23.0             NaN  "
      ]
     },
     "execution_count": 388,
     "metadata": {},
     "output_type": "execute_result"
    }
   ],
   "source": [
    "df[df['No_of_Benefits'].isna()]"
   ]
  },
  {
   "cell_type": "code",
   "execution_count": 389,
   "id": "8353bd62-4eab-40c2-ae3b-39cfcd1101b0",
   "metadata": {},
   "outputs": [],
   "source": [
    "benefits = np.round(df.groupby(by='Field')['No_of_Benefits'].agg('mean').loc['Financial Services'],0)"
   ]
  },
  {
   "cell_type": "code",
   "execution_count": 390,
   "id": "acb6e392-86b5-465d-8db0-d5ba3474d280",
   "metadata": {},
   "outputs": [],
   "source": [
    "df['No_of_Benefits'].fillna(benefits,inplace = True)"
   ]
  },
  {
   "cell_type": "code",
   "execution_count": 391,
   "id": "cba1cffc-c66f-4203-9244-4eb4c6492d36",
   "metadata": {},
   "outputs": [
    {
     "data": {
      "text/plain": [
       "Company             0\n",
       "Rating              0\n",
       "Field               0\n",
       "Location            0\n",
       "Reviews             0\n",
       "Salaries            0\n",
       "No_of_Interviews    0\n",
       "No_of_jobs          0\n",
       "No_of_Benefits      0\n",
       "dtype: int64"
      ]
     },
     "execution_count": 391,
     "metadata": {},
     "output_type": "execute_result"
    }
   ],
   "source": [
    "df.isna().sum()"
   ]
  },
  {
   "cell_type": "markdown",
   "id": "7a1cb856-bb2f-46d8-816e-ec2ddacf07f1",
   "metadata": {},
   "source": [
    "### Duplicates"
   ]
  },
  {
   "cell_type": "code",
   "execution_count": 392,
   "id": "a2c085ad-102d-4a27-a6bc-9369db8553b2",
   "metadata": {},
   "outputs": [
    {
     "data": {
      "text/plain": [
       "np.int64(0)"
      ]
     },
     "execution_count": 392,
     "metadata": {},
     "output_type": "execute_result"
    }
   ],
   "source": [
    "df.duplicated().sum()"
   ]
  },
  {
   "cell_type": "markdown",
   "id": "a5801302-6730-4370-9cb8-705732d11a79",
   "metadata": {},
   "source": [
    "### Type Casting"
   ]
  },
  {
   "cell_type": "code",
   "execution_count": 393,
   "id": "07bdb7fc-009e-42c6-bd57-a415be4c4f86",
   "metadata": {},
   "outputs": [
    {
     "data": {
      "text/plain": [
       "Company              object\n",
       "Rating              float64\n",
       "Field                object\n",
       "Location             object\n",
       "Reviews             float64\n",
       "Salaries            float64\n",
       "No_of_Interviews    float64\n",
       "No_of_jobs          float64\n",
       "No_of_Benefits      float64\n",
       "dtype: object"
      ]
     },
     "execution_count": 393,
     "metadata": {},
     "output_type": "execute_result"
    }
   ],
   "source": [
    "df.dtypes"
   ]
  },
  {
   "cell_type": "code",
   "execution_count": 394,
   "id": "cae70acb-4bcf-44b7-9c82-f3fbe4b60965",
   "metadata": {},
   "outputs": [],
   "source": [
    "df['Reviews'] = df['Reviews'].astype('int')"
   ]
  },
  {
   "cell_type": "code",
   "execution_count": 395,
   "id": "889a4569-2f5e-42ac-8f85-42faf32f24d4",
   "metadata": {},
   "outputs": [],
   "source": [
    "df['No_of_jobs'] = df['No_of_jobs'].astype('int')"
   ]
  },
  {
   "cell_type": "code",
   "execution_count": 396,
   "id": "50ea0f62-2b13-493a-8fa4-ee2b9b64a53c",
   "metadata": {},
   "outputs": [],
   "source": [
    "df['No_of_Benefits'] = df['No_of_Benefits'].astype('int')"
   ]
  },
  {
   "cell_type": "code",
   "execution_count": 397,
   "id": "8be9c407-63d4-46d1-94b6-6f270632b048",
   "metadata": {},
   "outputs": [
    {
     "data": {
      "text/plain": [
       "Company              object\n",
       "Rating              float64\n",
       "Field                object\n",
       "Location             object\n",
       "Reviews               int64\n",
       "Salaries            float64\n",
       "No_of_Interviews    float64\n",
       "No_of_jobs            int64\n",
       "No_of_Benefits        int64\n",
       "dtype: object"
      ]
     },
     "execution_count": 397,
     "metadata": {},
     "output_type": "execute_result"
    }
   ],
   "source": [
    "df.dtypes"
   ]
  },
  {
   "cell_type": "markdown",
   "id": "61710891-c232-4396-bbb1-9613ad3b9e89",
   "metadata": {},
   "source": [
    "### Outliers"
   ]
  },
  {
   "cell_type": "code",
   "execution_count": 398,
   "id": "8502a0d2-0b6c-49b6-be23-c22a61d43bd0",
   "metadata": {},
   "outputs": [
    {
     "data": {
      "text/plain": [
       "Index(['Company', 'Rating', 'Field', 'Location', 'Reviews', 'Salaries',\n",
       "       'No_of_Interviews', 'No_of_jobs', 'No_of_Benefits'],\n",
       "      dtype='object')"
      ]
     },
     "execution_count": 398,
     "metadata": {},
     "output_type": "execute_result"
    }
   ],
   "source": [
    "df.columns"
   ]
  },
  {
   "cell_type": "code",
   "execution_count": 399,
   "id": "024aabbe-e367-474b-83a0-dc8793cde612",
   "metadata": {},
   "outputs": [
    {
     "data": {
      "text/plain": [
       "<Axes: >"
      ]
     },
     "execution_count": 399,
     "metadata": {},
     "output_type": "execute_result"
    },
    {
     "data": {
      "image/png": "[encoded data removed]",
      "text/plain": [
       "<Figure size 640x480 with 1 Axes>"
      ]
     },
     "metadata": {},
     "output_type": "display_data"
    }
   ],
   "source": [
    "df['Rating'].plot(kind = 'box')"
   ]
  },
  {
   "cell_type": "code",
   "execution_count": 400,
   "id": "0193db7a-73a8-4f9c-8dc0-de9fdbf960fc",
   "metadata": {},
   "outputs": [
    {
     "data": {
      "text/plain": [
       "<Axes: >"
      ]
     },
     "execution_count": 400,
     "metadata": {},
     "output_type": "execute_result"
    },
    {
     "data": {
      "image/png": "[encoded data removed]",
      "text/plain": [
       "<Figure size 640x480 with 1 Axes>"
      ]
     },
     "metadata": {},
     "output_type": "display_data"
    }
   ],
   "source": [
    "df['Reviews'].plot(kind = 'box')"
   ]
  },
  {
   "cell_type": "code",
   "execution_count": 401,
   "id": "c975fb4e-bc7a-423d-a609-e448ecca27f3",
   "metadata": {},
   "outputs": [
    {
     "data": {
      "text/plain": [
       "<Axes: >"
      ]
     },
     "execution_count": 401,
     "metadata": {},
     "output_type": "execute_result"
    },
    {
     "data": {
      "image/png": "[encoded data removed]",
      "text/plain": [
       "<Figure size 640x480 with 1 Axes>"
      ]
     },
     "metadata": {},
     "output_type": "display_data"
    }
   ],
   "source": [
    "df['Salaries'].plot(kind = 'box')"
   ]
  },
  {
   "cell_type": "code",
   "execution_count": 402,
   "id": "6edd009a-d9c2-4699-b05f-b2c5a82b2876",
   "metadata": {},
   "outputs": [
    {
     "data": {
      "text/plain": [
       "<Axes: >"
      ]
     },
     "execution_count": 402,
     "metadata": {},
     "output_type": "execute_result"
    },
    {
     "data": {
      "image/png": "[encoded data removed]",
      "text/plain": [
       "<Figure size 640x480 with 1 Axes>"
      ]
     },
     "metadata": {},
     "output_type": "display_data"
    }
   ],
   "source": [
    "df['No_of_Interviews'].plot(kind = 'box')"
   ]
  },
  {
   "cell_type": "code",
   "execution_count": 403,
   "id": "282b6251-f3bf-4220-acc9-a2faa3d32305",
   "metadata": {},
   "outputs": [
    {
     "data": {
      "text/plain": [
       "<Axes: >"
      ]
     },
     "execution_count": 403,
     "metadata": {},
     "output_type": "execute_result"
    },
    {
     "data": {
      "image/png": "[encoded data removed]",
      "text/plain": [
       "<Figure size 640x480 with 1 Axes>"
      ]
     },
     "metadata": {},
     "output_type": "display_data"
    }
   ],
   "source": [
    "df['No_of_jobs'].plot(kind = 'box')"
   ]
  },
  {
   "cell_type": "code",
   "execution_count": 404,
   "id": "5a00cd69-794b-4f7f-98db-6a5a2eba9f3d",
   "metadata": {},
   "outputs": [
    {
     "data": {
      "text/plain": [
       "<Axes: >"
      ]
     },
     "execution_count": 404,
     "metadata": {},
     "output_type": "execute_result"
    },
    {
     "data": {
      "image/png": "[encoded data removed]",
      "text/plain": [
       "<Figure size 640x480 with 1 Axes>"
      ]
     },
     "metadata": {},
     "output_type": "display_data"
    }
   ],
   "source": [
    "df['No_of_Benefits'].plot(kind = 'box')"
   ]
  },
  {
   "cell_type": "code",
   "execution_count": 405,
   "id": "2eda89b4-ca64-4b39-8f68-5732926ea7a5",
   "metadata": {},
   "outputs": [
    {
     "data": {
      "text/html": [
       "<div>\n",
       "<style scoped>\n",
       "    .dataframe tbody tr th:only-of-type {\n",
       "        vertical-align: middle;\n",
       "    }\n",
       "\n",
       "    .dataframe tbody tr th {\n",
       "        vertical-align: top;\n",
       "    }\n",
       "\n",
       "    .dataframe thead th {\n",
       "        text-align: right;\n",
       "    }\n",
       "</style>\n",
       "<table border=\"1\" class=\"dataframe\">\n",
       "  <thead>\n",
       "    <tr style=\"text-align: right;\">\n",
       "      <th></th>\n",
       "      <th>Company</th>\n",
       "      <th>Rating</th>\n",
       "      <th>Field</th>\n",
       "      <th>Location</th>\n",
       "      <th>Reviews</th>\n",
       "      <th>Salaries</th>\n",
       "      <th>No_of_Interviews</th>\n",
       "      <th>No_of_jobs</th>\n",
       "      <th>No_of_Benefits</th>\n",
       "    </tr>\n",
       "  </thead>\n",
       "  <tbody>\n",
       "    <tr>\n",
       "      <th>0</th>\n",
       "      <td>HDB Financial Services</td>\n",
       "      <td>4.0</td>\n",
       "      <td>NBFC</td>\n",
       "      <td>Mumbai</td>\n",
       "      <td>19700</td>\n",
       "      <td>49900.0</td>\n",
       "      <td>772.0</td>\n",
       "      <td>120</td>\n",
       "      <td>1600</td>\n",
       "    </tr>\n",
       "    <tr>\n",
       "      <th>1</th>\n",
       "      <td>Larsen &amp; Toubro Limited</td>\n",
       "      <td>4.0</td>\n",
       "      <td>Engineering &amp; Construction</td>\n",
       "      <td>Chennai</td>\n",
       "      <td>17900</td>\n",
       "      <td>69300.0</td>\n",
       "      <td>1400.0</td>\n",
       "      <td>155</td>\n",
       "      <td>2900</td>\n",
       "    </tr>\n",
       "    <tr>\n",
       "      <th>2</th>\n",
       "      <td>Deloitte</td>\n",
       "      <td>3.8</td>\n",
       "      <td>Management Consulting</td>\n",
       "      <td>Hyderabad / Secunderabad</td>\n",
       "      <td>17000</td>\n",
       "      <td>180000.0</td>\n",
       "      <td>2800.0</td>\n",
       "      <td>585</td>\n",
       "      <td>2600</td>\n",
       "    </tr>\n",
       "    <tr>\n",
       "      <th>3</th>\n",
       "      <td>BYJUS</td>\n",
       "      <td>3.1</td>\n",
       "      <td>EdTech</td>\n",
       "      <td>Bangalore / Bengaluru</td>\n",
       "      <td>16000</td>\n",
       "      <td>59000.0</td>\n",
       "      <td>2200.0</td>\n",
       "      <td>1</td>\n",
       "      <td>1900</td>\n",
       "    </tr>\n",
       "    <tr>\n",
       "      <th>4</th>\n",
       "      <td>Kotak Mahindra Bank</td>\n",
       "      <td>3.8</td>\n",
       "      <td>Banking</td>\n",
       "      <td>Mumbai</td>\n",
       "      <td>15900</td>\n",
       "      <td>81000.0</td>\n",
       "      <td>1000.0</td>\n",
       "      <td>14</td>\n",
       "      <td>1300</td>\n",
       "    </tr>\n",
       "    <tr>\n",
       "      <th>...</th>\n",
       "      <td>...</td>\n",
       "      <td>...</td>\n",
       "      <td>...</td>\n",
       "      <td>...</td>\n",
       "      <td>...</td>\n",
       "      <td>...</td>\n",
       "      <td>...</td>\n",
       "      <td>...</td>\n",
       "      <td>...</td>\n",
       "    </tr>\n",
       "    <tr>\n",
       "      <th>1155</th>\n",
       "      <td>Shilpa Medicare</td>\n",
       "      <td>4.2</td>\n",
       "      <td>Automobile</td>\n",
       "      <td>Hyderabad / Secunderabad</td>\n",
       "      <td>679</td>\n",
       "      <td>4000.0</td>\n",
       "      <td>27.0</td>\n",
       "      <td>1</td>\n",
       "      <td>85</td>\n",
       "    </tr>\n",
       "    <tr>\n",
       "      <th>1156</th>\n",
       "      <td>Škoda Auto Volkswagen</td>\n",
       "      <td>3.4</td>\n",
       "      <td>Pharma</td>\n",
       "      <td>Pune</td>\n",
       "      <td>679</td>\n",
       "      <td>3700.0</td>\n",
       "      <td>51.0</td>\n",
       "      <td>7</td>\n",
       "      <td>57</td>\n",
       "    </tr>\n",
       "    <tr>\n",
       "      <th>1157</th>\n",
       "      <td>Salcomp Manufacturing</td>\n",
       "      <td>4.0</td>\n",
       "      <td>IT Services &amp; Consulting</td>\n",
       "      <td>Chennai</td>\n",
       "      <td>681</td>\n",
       "      <td>5200.0</td>\n",
       "      <td>56.0</td>\n",
       "      <td>290</td>\n",
       "      <td>66</td>\n",
       "    </tr>\n",
       "    <tr>\n",
       "      <th>1158</th>\n",
       "      <td>NTT</td>\n",
       "      <td>4.1</td>\n",
       "      <td>Electronics Manufacturing</td>\n",
       "      <td>Mumbai</td>\n",
       "      <td>679</td>\n",
       "      <td>3700.0</td>\n",
       "      <td>59.0</td>\n",
       "      <td>1</td>\n",
       "      <td>78</td>\n",
       "    </tr>\n",
       "    <tr>\n",
       "      <th>1159</th>\n",
       "      <td>Royal Sundaram General Insurance</td>\n",
       "      <td>4.0</td>\n",
       "      <td>Insurance</td>\n",
       "      <td>Chennai</td>\n",
       "      <td>679</td>\n",
       "      <td>2600.0</td>\n",
       "      <td>20.0</td>\n",
       "      <td>33</td>\n",
       "      <td>65</td>\n",
       "    </tr>\n",
       "  </tbody>\n",
       "</table>\n",
       "<p>1160 rows × 9 columns</p>\n",
       "</div>"
      ],
      "text/plain": [
       "                               Company  Rating                       Field  \\\n",
       "0               HDB Financial Services     4.0                        NBFC   \n",
       "1              Larsen & Toubro Limited     4.0  Engineering & Construction   \n",
       "2                             Deloitte     3.8       Management Consulting   \n",
       "3                                BYJUS     3.1                      EdTech   \n",
       "4                  Kotak Mahindra Bank     3.8                     Banking   \n",
       "...                                ...     ...                         ...   \n",
       "1155                   Shilpa Medicare     4.2                  Automobile   \n",
       "1156             Škoda Auto Volkswagen     3.4                      Pharma   \n",
       "1157             Salcomp Manufacturing     4.0    IT Services & Consulting   \n",
       "1158                               NTT     4.1   Electronics Manufacturing   \n",
       "1159  Royal Sundaram General Insurance     4.0                   Insurance   \n",
       "\n",
       "                       Location  Reviews  Salaries  No_of_Interviews  \\\n",
       "0                       Mumbai     19700   49900.0             772.0   \n",
       "1                      Chennai     17900   69300.0            1400.0   \n",
       "2     Hyderabad / Secunderabad     17000  180000.0            2800.0   \n",
       "3        Bangalore / Bengaluru     16000   59000.0            2200.0   \n",
       "4                       Mumbai     15900   81000.0            1000.0   \n",
       "...                         ...      ...       ...               ...   \n",
       "1155  Hyderabad / Secunderabad       679    4000.0              27.0   \n",
       "1156                      Pune       679    3700.0              51.0   \n",
       "1157                   Chennai       681    5200.0              56.0   \n",
       "1158                    Mumbai       679    3700.0              59.0   \n",
       "1159                   Chennai       679    2600.0              20.0   \n",
       "\n",
       "      No_of_jobs  No_of_Benefits  \n",
       "0            120            1600  \n",
       "1            155            2900  \n",
       "2            585            2600  \n",
       "3              1            1900  \n",
       "4             14            1300  \n",
       "...          ...             ...  \n",
       "1155           1              85  \n",
       "1156           7              57  \n",
       "1157         290              66  \n",
       "1158           1              78  \n",
       "1159          33              65  \n",
       "\n",
       "[1160 rows x 9 columns]"
      ]
     },
     "execution_count": 405,
     "metadata": {},
     "output_type": "execute_result"
    }
   ],
   "source": [
    "df"
   ]
  },
  {
   "cell_type": "code",
   "execution_count": 406,
   "id": "345a824f-2722-41c3-8dc6-5f3b1f0c9a13",
   "metadata": {},
   "outputs": [],
   "source": [
    "df.to_csv(\"Cleaned_Data.csv\")"
   ]
  }
 ],
 "metadata": {
  "kernelspec": {
   "display_name": "Python 3 (ipykernel)",
   "language": "python",
   "name": "python3"
  },
  "language_info": {
   "codemirror_mode": {
    "name": "ipython",
    "version": 3
   },
   "file_extension": ".py",
   "mimetype": "text/x-python",
   "name": "python",
   "nbconvert_exporter": "python",
   "pygments_lexer": "ipython3",
   "version": "3.12.4"
  }
 },
 "nbformat": 4,
 "nbformat_minor": 5
}
